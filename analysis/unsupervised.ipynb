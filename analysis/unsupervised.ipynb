{
 "cells": [
  {
   "cell_type": "markdown",
   "id": "f5598390",
   "metadata": {},
   "source": [
    "# Import Libraries"
   ]
  },
  {
   "cell_type": "code",
   "execution_count": 1,
   "id": "413fb656",
   "metadata": {},
   "outputs": [],
   "source": [
    "import os\n",
    "import pandas as pd\n",
    "import numpy\n",
    "import matplotlib.pyplot as plt\n",
    "import seaborn as sns"
   ]
  },
  {
   "cell_type": "code",
   "execution_count": 2,
   "id": "8e2a2fc6",
   "metadata": {},
   "outputs": [],
   "source": [
    "%matplotlib inline"
   ]
  },
  {
   "cell_type": "code",
   "execution_count": 3,
   "id": "988aa5e4",
   "metadata": {},
   "outputs": [],
   "source": [
    "from read_data import combine_all, combine_category, read_data"
   ]
  },
  {
   "cell_type": "markdown",
   "id": "2e9428c7",
   "metadata": {},
   "source": [
    "# Read Dataset"
   ]
  },
  {
   "cell_type": "code",
   "execution_count": 5,
   "id": "e7275ba3",
   "metadata": {},
   "outputs": [],
   "source": [
    "df1 = pd.read_csv('mr_beast/0e3GPea1Tyg.csv')\n",
    "df2 = pd.read_csv('mr_beast/9bqk6ZUsKyA.csv')"
   ]
  },
  {
   "cell_type": "code",
   "execution_count": 8,
   "id": "76dde9d2",
   "metadata": {},
   "outputs": [
    {
     "name": "stdout",
     "output_type": "stream",
     "text": [
      "<class 'pandas.core.frame.DataFrame'>\n",
      "RangeIndex: 190390 entries, 0 to 190389\n",
      "Data columns (total 5 columns):\n",
      " #   Column       Non-Null Count   Dtype \n",
      "---  ------       --------------   ----- \n",
      " 0   Name         190380 non-null  object\n",
      " 1   Comment      190196 non-null  object\n",
      " 2   Time         190390 non-null  object\n",
      " 3   Likes        190390 non-null  int64 \n",
      " 4   Reply Count  190390 non-null  int64 \n",
      "dtypes: int64(2), object(3)\n",
      "memory usage: 7.3+ MB\n"
     ]
    }
   ],
   "source": [
    "df2.info()"
   ]
  },
  {
   "cell_type": "code",
   "execution_count": 11,
   "id": "356a2c6f",
   "metadata": {},
   "outputs": [
    {
     "name": "stdout",
     "output_type": "stream",
     "text": [
      "<class 'pandas.core.frame.DataFrame'>\n",
      "Int64Index: 712560 entries, 0 to 190389\n",
      "Data columns (total 5 columns):\n",
      " #   Column       Non-Null Count   Dtype \n",
      "---  ------       --------------   ----- \n",
      " 0   Name         712506 non-null  object\n",
      " 1   Comment      712316 non-null  object\n",
      " 2   Time         712560 non-null  object\n",
      " 3   Likes        712560 non-null  int64 \n",
      " 4   Reply Count  712560 non-null  int64 \n",
      "dtypes: int64(2), object(3)\n",
      "memory usage: 32.6+ MB\n"
     ]
    }
   ],
   "source": [
    "pd.concat([df1, df2]).info()"
   ]
  },
  {
   "cell_type": "code",
   "execution_count": null,
   "id": "f9f9ffbb",
   "metadata": {},
   "outputs": [],
   "source": []
  }
 ],
 "metadata": {
  "kernelspec": {
   "display_name": "Python 3 (ipykernel)",
   "language": "python",
   "name": "python3"
  },
  "language_info": {
   "codemirror_mode": {
    "name": "ipython",
    "version": 3
   },
   "file_extension": ".py",
   "mimetype": "text/x-python",
   "name": "python",
   "nbconvert_exporter": "python",
   "pygments_lexer": "ipython3",
   "version": "3.9.11"
  }
 },
 "nbformat": 4,
 "nbformat_minor": 5
}
