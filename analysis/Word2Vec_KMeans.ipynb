{
  "cells": [
    {
      "cell_type": "markdown",
      "id": "3ab1048b",
      "metadata": {
        "id": "3ab1048b"
      },
      "source": [
        "# Import Libraries"
      ]
    },
    {
      "cell_type": "code",
      "execution_count": null,
      "id": "fb360240",
      "metadata": {
        "id": "fb360240"
      },
      "outputs": [],
      "source": [
        "import os\n",
        "import pandas as pd\n",
        "import numpy\n",
        "import matplotlib.pyplot as plt\n",
        "import seaborn as sns"
      ]
    },
    {
      "cell_type": "code",
      "execution_count": null,
      "id": "6cb96028",
      "metadata": {
        "id": "6cb96028"
      },
      "outputs": [],
      "source": [
        "%matplotlib inline"
      ]
    },
    {
      "cell_type": "code",
      "execution_count": null,
      "id": "c1db540b",
      "metadata": {
        "id": "c1db540b"
      },
      "outputs": [],
      "source": [
        "from read_data import combine_all, combine_category, read_data"
      ]
    },
    {
      "cell_type": "code",
      "execution_count": null,
      "id": "c63ae97c",
      "metadata": {
        "id": "c63ae97c"
      },
      "outputs": [],
      "source": [
        "import gensim\n",
        "import re\n",
        "from time import time\n",
        "from collections import defaultdict\n",
        "import spacy\n",
        "import multiprocessing\n",
        "\n",
        "from gensim.models import Word2Vec\n",
        "from gensim.models.phrases import Phrases, Phraser\n",
        "from sklearn.cluster import KMeans\n",
        "from yellowbrick.cluster import SilhouetteVisualizer\n",
        "from yellowbrick.datasets import load_nfl\n",
        "from sklearn.metrics import silhouette_samples, silhouette_score"
      ]
    },
    {
      "cell_type": "markdown",
      "id": "5a81c0e8",
      "metadata": {
        "id": "5a81c0e8"
      },
      "source": [
        "# Working on Entire Dataset"
      ]
    },
    {
      "cell_type": "markdown",
      "id": "fb2d3e65",
      "metadata": {
        "id": "fb2d3e65"
      },
      "source": [
        "## Reading Dataset"
      ]
    },
    {
      "cell_type": "code",
      "execution_count": null,
      "id": "f2342a36",
      "metadata": {
        "id": "f2342a36"
      },
      "outputs": [],
      "source": [
        "data = combine_all() # this function is written by us for reading all the dataset for different videos"
      ]
    },
    {
      "cell_type": "code",
      "execution_count": null,
      "id": "d8e10ff1",
      "metadata": {
        "id": "d8e10ff1",
        "outputId": "3770e5cc-65e0-4537-9b00-0abebc283589"
      },
      "outputs": [
        {
          "data": {
            "text/html": [
              "<div>\n",
              "<style scoped>\n",
              "    .dataframe tbody tr th:only-of-type {\n",
              "        vertical-align: middle;\n",
              "    }\n",
              "\n",
              "    .dataframe tbody tr th {\n",
              "        vertical-align: top;\n",
              "    }\n",
              "\n",
              "    .dataframe thead th {\n",
              "        text-align: right;\n",
              "    }\n",
              "</style>\n",
              "<table border=\"1\" class=\"dataframe\">\n",
              "  <thead>\n",
              "    <tr style=\"text-align: right;\">\n",
              "      <th></th>\n",
              "      <th>Name</th>\n",
              "      <th>Comment</th>\n",
              "      <th>Time</th>\n",
              "      <th>Likes</th>\n",
              "      <th>Reply Count\\r</th>\n",
              "      <th>Reply Count</th>\n",
              "    </tr>\n",
              "  </thead>\n",
              "  <tbody>\n",
              "    <tr>\n",
              "      <th>0</th>\n",
              "      <td>MrBeast</td>\n",
              "      <td>Like I said in the video, subscribe if you hav...</td>\n",
              "      <td>2021-11-24T21:02:45Z</td>\n",
              "      <td>860124</td>\n",
              "      <td>411.0</td>\n",
              "      <td>NaN</td>\n",
              "    </tr>\n",
              "    <tr>\n",
              "      <th>1</th>\n",
              "      <td>Natanael De La Torre</td>\n",
              "      <td>IRL:squid game already IRL</td>\n",
              "      <td>2022-04-03T01:26:06Z</td>\n",
              "      <td>0</td>\n",
              "      <td>0.0</td>\n",
              "      <td>NaN</td>\n",
              "    </tr>\n",
              "    <tr>\n",
              "      <th>2</th>\n",
              "      <td>Rexx2Byte</td>\n",
              "      <td>4:39 EYYYYYYY WASSUP NIGHT FOX</td>\n",
              "      <td>2022-04-03T01:19:41Z</td>\n",
              "      <td>1</td>\n",
              "      <td>0.0</td>\n",
              "      <td>NaN</td>\n",
              "    </tr>\n",
              "    <tr>\n",
              "      <th>3</th>\n",
              "      <td>HK KING868</td>\n",
              "      <td>After reject Netflix</td>\n",
              "      <td>2022-04-03T01:06:44Z</td>\n",
              "      <td>0</td>\n",
              "      <td>0.0</td>\n",
              "      <td>NaN</td>\n",
              "    </tr>\n",
              "    <tr>\n",
              "      <th>4</th>\n",
              "      <td>Dragon Walker</td>\n",
              "      <td>some people just made the marbles game so conf...</td>\n",
              "      <td>2022-04-03T01:06:41Z</td>\n",
              "      <td>1</td>\n",
              "      <td>0.0</td>\n",
              "      <td>NaN</td>\n",
              "    </tr>\n",
              "  </tbody>\n",
              "</table>\n",
              "</div>"
            ],
            "text/plain": [
              "                   Name                                            Comment  \\\n",
              "0               MrBeast  Like I said in the video, subscribe if you hav...   \n",
              "1  Natanael De La Torre                         IRL:squid game already IRL   \n",
              "2             Rexx2Byte                     4:39 EYYYYYYY WASSUP NIGHT FOX   \n",
              "3            HK KING868                               After reject Netflix   \n",
              "4         Dragon Walker  some people just made the marbles game so conf...   \n",
              "\n",
              "                   Time   Likes  Reply Count\\r  Reply Count  \n",
              "0  2021-11-24T21:02:45Z  860124          411.0          NaN  \n",
              "1  2022-04-03T01:26:06Z       0            0.0          NaN  \n",
              "2  2022-04-03T01:19:41Z       1            0.0          NaN  \n",
              "3  2022-04-03T01:06:44Z       0            0.0          NaN  \n",
              "4  2022-04-03T01:06:41Z       1            0.0          NaN  "
            ]
          },
          "execution_count": 6,
          "metadata": {},
          "output_type": "execute_result"
        }
      ],
      "source": [
        "data.head(5)"
      ]
    },
    {
      "cell_type": "code",
      "execution_count": null,
      "id": "c83af903",
      "metadata": {
        "id": "c83af903"
      },
      "outputs": [],
      "source": [
        "df = data[['Name', 'Comment']]"
      ]
    },
    {
      "cell_type": "code",
      "execution_count": null,
      "id": "8b502dbf",
      "metadata": {
        "id": "8b502dbf",
        "outputId": "4fdf74fa-1ba1-416b-b500-d6f0145c143b"
      },
      "outputs": [
        {
          "name": "stdout",
          "output_type": "stream",
          "text": [
            "<class 'pandas.core.frame.DataFrame'>\n",
            "Int64Index: 1351212 entries, 0 to 70956\n",
            "Data columns (total 2 columns):\n",
            " #   Column   Non-Null Count    Dtype \n",
            "---  ------   --------------    ----- \n",
            " 0   Name     1351105 non-null  object\n",
            " 1   Comment  1350925 non-null  object\n",
            "dtypes: object(2)\n",
            "memory usage: 30.9+ MB\n"
          ]
        }
      ],
      "source": [
        "df.info()"
      ]
    },
    {
      "cell_type": "markdown",
      "id": "ae57b628",
      "metadata": {
        "id": "ae57b628"
      },
      "source": [
        "## Data Cleaning"
      ]
    },
    {
      "cell_type": "code",
      "execution_count": null,
      "id": "8af6f095",
      "metadata": {
        "id": "8af6f095"
      },
      "outputs": [],
      "source": [
        "data = combine_all()"
      ]
    },
    {
      "cell_type": "code",
      "execution_count": null,
      "id": "b5e08904",
      "metadata": {
        "id": "b5e08904"
      },
      "outputs": [],
      "source": [
        "data = data[['Name', 'Comment']]"
      ]
    },
    {
      "cell_type": "code",
      "execution_count": null,
      "id": "2c801a3a",
      "metadata": {
        "id": "2c801a3a"
      },
      "outputs": [],
      "source": [
        "data = data.dropna() # deleting all nan values"
      ]
    },
    {
      "cell_type": "code",
      "execution_count": null,
      "id": "bf654c05",
      "metadata": {
        "id": "bf654c05",
        "outputId": "65ca8ebf-1bf0-4122-f64d-4eed2363a699"
      },
      "outputs": [
        {
          "data": {
            "text/plain": [
              "Name       0\n",
              "Comment    0\n",
              "dtype: int64"
            ]
          },
          "execution_count": 111,
          "metadata": {},
          "output_type": "execute_result"
        }
      ],
      "source": [
        "data.isnull().sum()"
      ]
    },
    {
      "cell_type": "code",
      "execution_count": null,
      "id": "86ee7f34",
      "metadata": {
        "id": "86ee7f34"
      },
      "outputs": [],
      "source": [
        "comments = data.Comment.apply(gensim.utils.simple_preprocess) # gensum preprocessing"
      ]
    },
    {
      "cell_type": "markdown",
      "id": "cb1dbe91",
      "metadata": {
        "id": "cb1dbe91"
      },
      "source": [
        "## Word2Vec"
      ]
    },
    {
      "cell_type": "code",
      "execution_count": null,
      "id": "f2b61fee",
      "metadata": {
        "id": "f2b61fee"
      },
      "outputs": [],
      "source": [
        "w2v_model = Word2Vec(min_count=0,\n",
        "                     window=10,\n",
        "                     workers=multiprocessing.cpu_count()-1) # initializing word2vec model"
      ]
    },
    {
      "cell_type": "code",
      "execution_count": null,
      "id": "decc5697",
      "metadata": {
        "id": "decc5697"
      },
      "outputs": [],
      "source": [
        "w2v_model.build_vocab(comments, progress_per=10000) # building vocab"
      ]
    },
    {
      "cell_type": "code",
      "execution_count": null,
      "id": "65d3dfca",
      "metadata": {
        "id": "65d3dfca",
        "outputId": "7a550822-4e41-4e02-fce0-9460953a886e"
      },
      "outputs": [
        {
          "data": {
            "text/plain": [
              "(206606275, 256329330)"
            ]
          },
          "execution_count": 135,
          "metadata": {},
          "output_type": "execute_result"
        }
      ],
      "source": [
        "w2v_model.train(comments, total_examples=w2v_model.corpus_count, epochs=30, report_delay=1) # word2vec train"
      ]
    },
    {
      "cell_type": "markdown",
      "id": "f706078c",
      "metadata": {
        "id": "f706078c"
      },
      "source": [
        "## K-Means - Silhouette Score"
      ]
    },
    {
      "cell_type": "code",
      "execution_count": null,
      "id": "1ca3c91d",
      "metadata": {
        "id": "1ca3c91d",
        "outputId": "c5a3b481-b0ff-4c13-cc4f-b02cfde5c549"
      },
      "outputs": [
        {
          "data": {
            "text/plain": [
              "0.70732135"
            ]
          },
          "execution_count": 137,
          "metadata": {},
          "output_type": "execute_result"
        }
      ],
      "source": [
        "model = KMeans(n_clusters=3, max_iter=1000, random_state=True, n_init=50).fit(X=w2v_model.wv.vectors) # kmeans on word2vec feature vectors\n",
        "score = silhouette_score(w2v_model.wv.vectors, model.labels_, metric='euclidean') #  silhouette_score\n",
        "score"
      ]
    },
    {
      "cell_type": "code",
      "execution_count": null,
      "id": "73110978",
      "metadata": {
        "id": "73110978",
        "outputId": "3fd1dbf9-5df2-4992-8244-b2cc38c37b57"
      },
      "outputs": [
        {
          "data": {
            "image/png": "[encoded data removed]",
            "text/plain": [
              "<Figure size 432x288 with 1 Axes>"
            ]
          },
          "metadata": {
            "needs_background": "light"
          },
          "output_type": "display_data"
        },
        {
          "data": {
            "text/plain": [
              "<AxesSubplot:title={'center':'Silhouette Plot of KMeans Clustering for 172068 Samples in 3 Centers'}, xlabel='silhouette coefficient values', ylabel='cluster label'>"
            ]
          },
          "execution_count": 138,
          "metadata": {},
          "output_type": "execute_result"
        }
      ],
      "source": [
        "kmeans = KMeans(n_clusters=3, max_iter=1000, random_state=True, n_init=50)\n",
        "visualizer = SilhouetteVisualizer(kmeans, colors='yellowbrick')\n",
        "\n",
        "visualizer.fit(w2v_model.wv.vectors)\n",
        "visualizer.show()"
      ]
    },
    {
      "cell_type": "markdown",
      "id": "8613ddfc",
      "metadata": {
        "id": "8613ddfc"
      },
      "source": [
        "#### In the above graph we have not received adequate results for clustering, this might be because majority of comments are positve giving us an imbalanced dataset. Also since videos have global reach we have comments from many languages. This makes it hard for our model to cluster comemnts into proper labels. We plan to work on this drawback by getting more data from wide variety of videos and using BERT algorithm which can handle multiple languages."
      ]
    }
  ],
  "metadata": {
    "kernelspec": {
      "display_name": "Python 3 (ipykernel)",
      "language": "python",
      "name": "python3"
    },
    "language_info": {
      "codemirror_mode": {
        "name": "ipython",
        "version": 3
      },
      "file_extension": ".py",
      "mimetype": "text/x-python",
      "name": "python",
      "nbconvert_exporter": "python",
      "pygments_lexer": "ipython3",
      "version": "3.9.11"
    },
    "colab": {
      "name": "Word2Vec-KMeans.ipynb",
      "provenance": []
    }
  },
  "nbformat": 4,
  "nbformat_minor": 5
}