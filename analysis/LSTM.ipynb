{
 "cells": [
  {
   "cell_type": "markdown",
   "id": "187e74bc",
   "metadata": {
    "id": "187e74bc"
   },
   "source": [
    "# Read Dataset"
   ]
  },
  {
   "cell_type": "code",
   "execution_count": 1,
   "id": "db77e4ab",
   "metadata": {
    "id": "db77e4ab"
   },
   "outputs": [],
   "source": [
    "import pandas as pd\n",
    "import numpy as np\n",
    "import matplotlib.pyplot as plt\n",
    "import seaborn as sns"
   ]
  },
  {
   "cell_type": "code",
   "execution_count": 2,
   "id": "8b0de39e",
   "metadata": {
    "id": "8b0de39e"
   },
   "outputs": [],
   "source": [
    "data = pd.read_csv('dataset.csv')"
   ]
  },
  {
   "cell_type": "code",
   "execution_count": 3,
   "id": "84353289",
   "metadata": {
    "id": "84353289",
    "outputId": "dd9f07c8-fd8b-47db-fcd3-bd3cd19ae50a"
   },
   "outputs": [
    {
     "data": {
      "text/plain": [
       "Index(['Unnamed: 0', 'Comment', 'neg', 'neu', 'pos', 'compound', 'Sentiment'], dtype='object')"
      ]
     },
     "execution_count": 3,
     "metadata": {},
     "output_type": "execute_result"
    }
   ],
   "source": [
    "data.columns"
   ]
  },
  {
   "cell_type": "code",
   "execution_count": 4,
   "id": "51f2405c",
   "metadata": {
    "id": "51f2405c",
    "outputId": "30826a06-b825-40cf-9b7d-f988420c68d9"
   },
   "outputs": [
    {
     "data": {
      "text/html": [
       "<div>\n",
       "<style scoped>\n",
       "    .dataframe tbody tr th:only-of-type {\n",
       "        vertical-align: middle;\n",
       "    }\n",
       "\n",
       "    .dataframe tbody tr th {\n",
       "        vertical-align: top;\n",
       "    }\n",
       "\n",
       "    .dataframe thead th {\n",
       "        text-align: right;\n",
       "    }\n",
       "</style>\n",
       "<table border=\"1\" class=\"dataframe\">\n",
       "  <thead>\n",
       "    <tr style=\"text-align: right;\">\n",
       "      <th></th>\n",
       "      <th>Unnamed: 0</th>\n",
       "      <th>Comment</th>\n",
       "      <th>neg</th>\n",
       "      <th>neu</th>\n",
       "      <th>pos</th>\n",
       "      <th>compound</th>\n",
       "      <th>Sentiment</th>\n",
       "    </tr>\n",
       "  </thead>\n",
       "  <tbody>\n",
       "    <tr>\n",
       "      <th>0</th>\n",
       "      <td>0</td>\n",
       "      <td>chris watching them eat food why are we still ...</td>\n",
       "      <td>0.127</td>\n",
       "      <td>0.873</td>\n",
       "      <td>0.000</td>\n",
       "      <td>-0.5423</td>\n",
       "      <td>Negative</td>\n",
       "    </tr>\n",
       "    <tr>\n",
       "      <th>1</th>\n",
       "      <td>1</td>\n",
       "      <td>NaN</td>\n",
       "      <td>0.000</td>\n",
       "      <td>0.000</td>\n",
       "      <td>0.000</td>\n",
       "      <td>0.0000</td>\n",
       "      <td>Neutral</td>\n",
       "    </tr>\n",
       "    <tr>\n",
       "      <th>2</th>\n",
       "      <td>2</td>\n",
       "      <td>a</td>\n",
       "      <td>0.000</td>\n",
       "      <td>0.000</td>\n",
       "      <td>0.000</td>\n",
       "      <td>0.0000</td>\n",
       "      <td>Neutral</td>\n",
       "    </tr>\n",
       "    <tr>\n",
       "      <th>3</th>\n",
       "      <td>3</td>\n",
       "      <td>noted</td>\n",
       "      <td>0.000</td>\n",
       "      <td>1.000</td>\n",
       "      <td>0.000</td>\n",
       "      <td>0.0000</td>\n",
       "      <td>Neutral</td>\n",
       "    </tr>\n",
       "    <tr>\n",
       "      <th>4</th>\n",
       "      <td>4</td>\n",
       "      <td>cuando en espanol</td>\n",
       "      <td>0.000</td>\n",
       "      <td>1.000</td>\n",
       "      <td>0.000</td>\n",
       "      <td>0.0000</td>\n",
       "      <td>Neutral</td>\n",
       "    </tr>\n",
       "    <tr>\n",
       "      <th>...</th>\n",
       "      <td>...</td>\n",
       "      <td>...</td>\n",
       "      <td>...</td>\n",
       "      <td>...</td>\n",
       "      <td>...</td>\n",
       "      <td>...</td>\n",
       "      <td>...</td>\n",
       "    </tr>\n",
       "    <tr>\n",
       "      <th>581995</th>\n",
       "      <td>581995</td>\n",
       "      <td>dongyangin ggyeoissneungeo kingbadne jeosaeggi...</td>\n",
       "      <td>0.000</td>\n",
       "      <td>1.000</td>\n",
       "      <td>0.000</td>\n",
       "      <td>0.0000</td>\n",
       "      <td>Neutral</td>\n",
       "    </tr>\n",
       "    <tr>\n",
       "      <th>581996</th>\n",
       "      <td>581996</td>\n",
       "      <td>plz come to bhangarh</td>\n",
       "      <td>0.000</td>\n",
       "      <td>0.698</td>\n",
       "      <td>0.302</td>\n",
       "      <td>0.0772</td>\n",
       "      <td>Positive</td>\n",
       "    </tr>\n",
       "    <tr>\n",
       "      <th>581997</th>\n",
       "      <td>581997</td>\n",
       "      <td>i got brawl stars and it is very fun</td>\n",
       "      <td>0.000</td>\n",
       "      <td>0.661</td>\n",
       "      <td>0.339</td>\n",
       "      <td>0.5563</td>\n",
       "      <td>Positive</td>\n",
       "    </tr>\n",
       "    <tr>\n",
       "      <th>581998</th>\n",
       "      <td>581998</td>\n",
       "      <td>NaN</td>\n",
       "      <td>0.000</td>\n",
       "      <td>0.000</td>\n",
       "      <td>0.000</td>\n",
       "      <td>0.0000</td>\n",
       "      <td>Neutral</td>\n",
       "    </tr>\n",
       "    <tr>\n",
       "      <th>581999</th>\n",
       "      <td>581999</td>\n",
       "      <td>i me alice vincent have a crush on karl</td>\n",
       "      <td>0.211</td>\n",
       "      <td>0.789</td>\n",
       "      <td>0.000</td>\n",
       "      <td>-0.1531</td>\n",
       "      <td>Negative</td>\n",
       "    </tr>\n",
       "  </tbody>\n",
       "</table>\n",
       "<p>582000 rows × 7 columns</p>\n",
       "</div>"
      ],
      "text/plain": [
       "        Unnamed: 0                                            Comment    neg  \\\n",
       "0                0  chris watching them eat food why are we still ...  0.127   \n",
       "1                1                                                NaN  0.000   \n",
       "2                2                                                  a  0.000   \n",
       "3                3                                              noted  0.000   \n",
       "4                4                                  cuando en espanol  0.000   \n",
       "...            ...                                                ...    ...   \n",
       "581995      581995  dongyangin ggyeoissneungeo kingbadne jeosaeggi...  0.000   \n",
       "581996      581996                               plz come to bhangarh  0.000   \n",
       "581997      581997               i got brawl stars and it is very fun  0.000   \n",
       "581998      581998                                                NaN  0.000   \n",
       "581999      581999            i me alice vincent have a crush on karl  0.211   \n",
       "\n",
       "          neu    pos  compound Sentiment  \n",
       "0       0.873  0.000   -0.5423  Negative  \n",
       "1       0.000  0.000    0.0000   Neutral  \n",
       "2       0.000  0.000    0.0000   Neutral  \n",
       "3       1.000  0.000    0.0000   Neutral  \n",
       "4       1.000  0.000    0.0000   Neutral  \n",
       "...       ...    ...       ...       ...  \n",
       "581995  1.000  0.000    0.0000   Neutral  \n",
       "581996  0.698  0.302    0.0772  Positive  \n",
       "581997  0.661  0.339    0.5563  Positive  \n",
       "581998  0.000  0.000    0.0000   Neutral  \n",
       "581999  0.789  0.000   -0.1531  Negative  \n",
       "\n",
       "[582000 rows x 7 columns]"
      ]
     },
     "execution_count": 4,
     "metadata": {},
     "output_type": "execute_result"
    }
   ],
   "source": [
    "data"
   ]
  },
  {
   "cell_type": "code",
   "execution_count": 5,
   "id": "01b87898",
   "metadata": {
    "id": "01b87898"
   },
   "outputs": [],
   "source": [
    "data.drop(['Unnamed: 0', 'neg', 'neu', 'pos', 'compound'], axis=1, inplace=True)"
   ]
  },
  {
   "cell_type": "code",
   "execution_count": 6,
   "id": "5e7e38f3",
   "metadata": {
    "id": "5e7e38f3",
    "outputId": "ee7d13b5-3f37-4d52-9e1d-0cdd47acb01d"
   },
   "outputs": [
    {
     "data": {
      "text/html": [
       "<div>\n",
       "<style scoped>\n",
       "    .dataframe tbody tr th:only-of-type {\n",
       "        vertical-align: middle;\n",
       "    }\n",
       "\n",
       "    .dataframe tbody tr th {\n",
       "        vertical-align: top;\n",
       "    }\n",
       "\n",
       "    .dataframe thead th {\n",
       "        text-align: right;\n",
       "    }\n",
       "</style>\n",
       "<table border=\"1\" class=\"dataframe\">\n",
       "  <thead>\n",
       "    <tr style=\"text-align: right;\">\n",
       "      <th></th>\n",
       "      <th>Comment</th>\n",
       "      <th>Sentiment</th>\n",
       "    </tr>\n",
       "  </thead>\n",
       "  <tbody>\n",
       "    <tr>\n",
       "      <th>0</th>\n",
       "      <td>chris watching them eat food why are we still ...</td>\n",
       "      <td>Negative</td>\n",
       "    </tr>\n",
       "    <tr>\n",
       "      <th>1</th>\n",
       "      <td>NaN</td>\n",
       "      <td>Neutral</td>\n",
       "    </tr>\n",
       "    <tr>\n",
       "      <th>2</th>\n",
       "      <td>a</td>\n",
       "      <td>Neutral</td>\n",
       "    </tr>\n",
       "    <tr>\n",
       "      <th>3</th>\n",
       "      <td>noted</td>\n",
       "      <td>Neutral</td>\n",
       "    </tr>\n",
       "    <tr>\n",
       "      <th>4</th>\n",
       "      <td>cuando en espanol</td>\n",
       "      <td>Neutral</td>\n",
       "    </tr>\n",
       "    <tr>\n",
       "      <th>...</th>\n",
       "      <td>...</td>\n",
       "      <td>...</td>\n",
       "    </tr>\n",
       "    <tr>\n",
       "      <th>581995</th>\n",
       "      <td>dongyangin ggyeoissneungeo kingbadne jeosaeggi...</td>\n",
       "      <td>Neutral</td>\n",
       "    </tr>\n",
       "    <tr>\n",
       "      <th>581996</th>\n",
       "      <td>plz come to bhangarh</td>\n",
       "      <td>Positive</td>\n",
       "    </tr>\n",
       "    <tr>\n",
       "      <th>581997</th>\n",
       "      <td>i got brawl stars and it is very fun</td>\n",
       "      <td>Positive</td>\n",
       "    </tr>\n",
       "    <tr>\n",
       "      <th>581998</th>\n",
       "      <td>NaN</td>\n",
       "      <td>Neutral</td>\n",
       "    </tr>\n",
       "    <tr>\n",
       "      <th>581999</th>\n",
       "      <td>i me alice vincent have a crush on karl</td>\n",
       "      <td>Negative</td>\n",
       "    </tr>\n",
       "  </tbody>\n",
       "</table>\n",
       "<p>582000 rows × 2 columns</p>\n",
       "</div>"
      ],
      "text/plain": [
       "                                                  Comment Sentiment\n",
       "0       chris watching them eat food why are we still ...  Negative\n",
       "1                                                     NaN   Neutral\n",
       "2                                                       a   Neutral\n",
       "3                                                   noted   Neutral\n",
       "4                                       cuando en espanol   Neutral\n",
       "...                                                   ...       ...\n",
       "581995  dongyangin ggyeoissneungeo kingbadne jeosaeggi...   Neutral\n",
       "581996                               plz come to bhangarh  Positive\n",
       "581997               i got brawl stars and it is very fun  Positive\n",
       "581998                                                NaN   Neutral\n",
       "581999            i me alice vincent have a crush on karl  Negative\n",
       "\n",
       "[582000 rows x 2 columns]"
      ]
     },
     "execution_count": 6,
     "metadata": {},
     "output_type": "execute_result"
    }
   ],
   "source": [
    "data"
   ]
  },
  {
   "cell_type": "code",
   "execution_count": 7,
   "id": "6a2a1ae8",
   "metadata": {},
   "outputs": [],
   "source": [
    "data.dropna(inplace=True)"
   ]
  },
  {
   "cell_type": "markdown",
   "id": "cc2074a0",
   "metadata": {
    "id": "cc2074a0"
   },
   "source": [
    "# Data Cleaning"
   ]
  },
  {
   "cell_type": "code",
   "execution_count": 8,
   "id": "daea4a00",
   "metadata": {
    "id": "daea4a00"
   },
   "outputs": [],
   "source": [
    "import nltk\n",
    "import time\n",
    "\n",
    "w_tokenizer = nltk.tokenize.WhitespaceTokenizer()\n",
    "lemmatizer = nltk.stem.WordNetLemmatizer()"
   ]
  },
  {
   "cell_type": "code",
   "execution_count": 9,
   "id": "e4176e51",
   "metadata": {},
   "outputs": [],
   "source": [
    "def lemmatize_text(text):\n",
    "    comment = \" \".join([lemmatizer.lemmatize(w) for w in w_tokenizer.tokenize(text)])\n",
    "    \n",
    "    if len(comment.replace(\" \", \"\")) > 0:\n",
    "        return comment\n",
    "    \n",
    "    return None"
   ]
  },
  {
   "cell_type": "code",
   "execution_count": 10,
   "id": "2df50b8e",
   "metadata": {
    "id": "2df50b8e"
   },
   "outputs": [],
   "source": [
    "data[\"Comment\"]=data[\"Comment\"].astype(str)"
   ]
  },
  {
   "cell_type": "code",
   "execution_count": 11,
   "id": "a3b88d81",
   "metadata": {
    "id": "a3b88d81",
    "outputId": "88b24ea7-8bb6-471e-89cb-5b8172b135e7"
   },
   "outputs": [
    {
     "name": "stdout",
     "output_type": "stream",
     "text": [
      "Total Time Taken 13.331225633621216s\n"
     ]
    }
   ],
   "source": [
    "start_time = time.time()\n",
    "data[\"Comment\"] = data[\"Comment\"].apply(lambda text: lemmatize_text(text))\n",
    "end_time = time.time()\n",
    "print(f'Total Time Taken {end_time - start_time}s')"
   ]
  },
  {
   "cell_type": "code",
   "execution_count": 12,
   "id": "ce50eac5",
   "metadata": {},
   "outputs": [
    {
     "data": {
      "text/html": [
       "<div>\n",
       "<style scoped>\n",
       "    .dataframe tbody tr th:only-of-type {\n",
       "        vertical-align: middle;\n",
       "    }\n",
       "\n",
       "    .dataframe tbody tr th {\n",
       "        vertical-align: top;\n",
       "    }\n",
       "\n",
       "    .dataframe thead th {\n",
       "        text-align: right;\n",
       "    }\n",
       "</style>\n",
       "<table border=\"1\" class=\"dataframe\">\n",
       "  <thead>\n",
       "    <tr style=\"text-align: right;\">\n",
       "      <th></th>\n",
       "      <th>Comment</th>\n",
       "      <th>Sentiment</th>\n",
       "    </tr>\n",
       "  </thead>\n",
       "  <tbody>\n",
       "    <tr>\n",
       "      <th>0</th>\n",
       "      <td>chris watching them eat food why are we still ...</td>\n",
       "      <td>Negative</td>\n",
       "    </tr>\n",
       "    <tr>\n",
       "      <th>2</th>\n",
       "      <td>a</td>\n",
       "      <td>Neutral</td>\n",
       "    </tr>\n",
       "    <tr>\n",
       "      <th>3</th>\n",
       "      <td>noted</td>\n",
       "      <td>Neutral</td>\n",
       "    </tr>\n",
       "    <tr>\n",
       "      <th>4</th>\n",
       "      <td>cuando en espanol</td>\n",
       "      <td>Neutral</td>\n",
       "    </tr>\n",
       "    <tr>\n",
       "      <th>5</th>\n",
       "      <td>primero</td>\n",
       "      <td>Neutral</td>\n",
       "    </tr>\n",
       "    <tr>\n",
       "      <th>...</th>\n",
       "      <td>...</td>\n",
       "      <td>...</td>\n",
       "    </tr>\n",
       "    <tr>\n",
       "      <th>581994</th>\n",
       "      <td>this is the laziest and sloppiest ive ever see...</td>\n",
       "      <td>Negative</td>\n",
       "    </tr>\n",
       "    <tr>\n",
       "      <th>581995</th>\n",
       "      <td>dongyangin ggyeoissneungeo kingbadne jeosaeggi...</td>\n",
       "      <td>Neutral</td>\n",
       "    </tr>\n",
       "    <tr>\n",
       "      <th>581996</th>\n",
       "      <td>plz come to bhangarh</td>\n",
       "      <td>Positive</td>\n",
       "    </tr>\n",
       "    <tr>\n",
       "      <th>581997</th>\n",
       "      <td>i got brawl star and it is very fun</td>\n",
       "      <td>Positive</td>\n",
       "    </tr>\n",
       "    <tr>\n",
       "      <th>581999</th>\n",
       "      <td>i me alice vincent have a crush on karl</td>\n",
       "      <td>Negative</td>\n",
       "    </tr>\n",
       "  </tbody>\n",
       "</table>\n",
       "<p>570868 rows × 2 columns</p>\n",
       "</div>"
      ],
      "text/plain": [
       "                                                  Comment Sentiment\n",
       "0       chris watching them eat food why are we still ...  Negative\n",
       "2                                                       a   Neutral\n",
       "3                                                   noted   Neutral\n",
       "4                                       cuando en espanol   Neutral\n",
       "5                                                 primero   Neutral\n",
       "...                                                   ...       ...\n",
       "581994  this is the laziest and sloppiest ive ever see...  Negative\n",
       "581995  dongyangin ggyeoissneungeo kingbadne jeosaeggi...   Neutral\n",
       "581996                               plz come to bhangarh  Positive\n",
       "581997                i got brawl star and it is very fun  Positive\n",
       "581999            i me alice vincent have a crush on karl  Negative\n",
       "\n",
       "[570868 rows x 2 columns]"
      ]
     },
     "execution_count": 12,
     "metadata": {},
     "output_type": "execute_result"
    }
   ],
   "source": [
    "data"
   ]
  },
  {
   "cell_type": "code",
   "execution_count": 13,
   "id": "f1fa11e8",
   "metadata": {
    "id": "f1fa11e8"
   },
   "outputs": [],
   "source": [
    "X = data['Comment']\n",
    "y = data['Sentiment']"
   ]
  },
  {
   "cell_type": "code",
   "execution_count": 14,
   "id": "665a3dd0",
   "metadata": {
    "id": "665a3dd0"
   },
   "outputs": [],
   "source": [
    "np.save('LSTM/X_clean', np.array(X))\n",
    "np.save('LSTM/y_clean', np.array(y))"
   ]
  },
  {
   "cell_type": "code",
   "execution_count": 15,
   "id": "de06f906",
   "metadata": {
    "id": "de06f906"
   },
   "outputs": [],
   "source": [
    "# X = np.load('X_clean.npy', allow_pickle=True)\n",
    "# y = np.load('y_clean.npy', allow_pickle=True)"
   ]
  },
  {
   "cell_type": "markdown",
   "id": "45945d86",
   "metadata": {
    "id": "45945d86"
   },
   "source": [
    "# Train Test Split - Imbalanced Dataset"
   ]
  },
  {
   "cell_type": "code",
   "execution_count": 16,
   "id": "4dbe4681",
   "metadata": {
    "id": "4dbe4681"
   },
   "outputs": [],
   "source": [
    "from sklearn.model_selection import train_test_split\n",
    "X_train, X_test, y_train, y_test = train_test_split(X, y,\n",
    "                                                    stratify=y, \n",
    "                                                    test_size=0.2)"
   ]
  },
  {
   "cell_type": "code",
   "execution_count": 17,
   "id": "10c4e93c",
   "metadata": {
    "id": "10c4e93c",
    "outputId": "5ee6ed96-27f4-4e5a-8109-baf63b4a445f"
   },
   "outputs": [
    {
     "data": {
      "image/png": "[encoded data removed]",
      "text/plain": [
       "<Figure size 432x288 with 1 Axes>"
      ]
     },
     "metadata": {
      "needs_background": "light"
     },
     "output_type": "display_data"
    }
   ],
   "source": [
    "labels, count = np.unique(y_train, return_counts=True)\n",
    "plt.bar(labels, count)\n",
    "plt.title('Training Labels')\n",
    "plt.xlabel('Sentiments')\n",
    "plt.ylabel('Count')\n",
    "plt.show()"
   ]
  },
  {
   "cell_type": "code",
   "execution_count": 18,
   "id": "e122df99",
   "metadata": {
    "id": "e122df99",
    "outputId": "09a7e1b0-7f2c-4e06-a04f-9cf91f60650c"
   },
   "outputs": [
    {
     "data": {
      "image/png": "[encoded data removed]",
      "text/plain": [
       "<Figure size 432x288 with 1 Axes>"
      ]
     },
     "metadata": {
      "needs_background": "light"
     },
     "output_type": "display_data"
    }
   ],
   "source": [
    "labels, count = np.unique(y_test, return_counts=True)\n",
    "plt.bar(labels, count)\n",
    "plt.title('Test Labels')\n",
    "plt.xlabel('Sentiments')\n",
    "plt.ylabel('Count')\n",
    "plt.show()"
   ]
  },
  {
   "cell_type": "markdown",
   "id": "b22a95b1",
   "metadata": {
    "id": "b22a95b1"
   },
   "source": [
    "# Word Embeddings - Keras Tokenizer"
   ]
  },
  {
   "cell_type": "markdown",
   "id": "d9c626ce",
   "metadata": {
    "id": "d9c626ce"
   },
   "source": [
    "## Tokenizer"
   ]
  },
  {
   "cell_type": "code",
   "execution_count": 19,
   "id": "57c83f89",
   "metadata": {
    "id": "57c83f89"
   },
   "outputs": [],
   "source": [
    "from tensorflow.keras.preprocessing.text import Tokenizer\n",
    "from tensorflow.keras.preprocessing.sequence import pad_sequences"
   ]
  },
  {
   "cell_type": "code",
   "execution_count": 20,
   "id": "30976b15",
   "metadata": {},
   "outputs": [
    {
     "name": "stdout",
     "output_type": "stream",
     "text": [
      "X_train shape: (456694,)\n",
      "\n",
      "X_train type: <class 'pandas.core.series.Series'>\n",
      "\n",
      "X_train: \n",
      "289169                                      this is amazing\n",
      "21672         i feel bad for karl am so mad at you mr beast\n",
      "465047    no way mrbeast is my favorite youtuber thank y...\n",
      "316186    this would be more funnier if the elimated peo...\n",
      "542880                                                  god\n",
      "                                ...                        \n",
      "226737                                           subscribed\n",
      "471449    it would have been better if you just left him...\n",
      "574846                                               gtbygb\n",
      "410398    mrbeast is the best youtuber ever on the plane...\n",
      "43536       wow the production level of this is insane prop\n",
      "Name: Comment, Length: 456694, dtype: object\n"
     ]
    }
   ],
   "source": [
    "print(f'X_train shape: {X_train.shape}\\n\\nX_train type: {type(X_train)}\\n\\nX_train: \\n{X_train}')"
   ]
  },
  {
   "cell_type": "code",
   "execution_count": 21,
   "id": "5496ea1c",
   "metadata": {},
   "outputs": [
    {
     "name": "stdout",
     "output_type": "stream",
     "text": [
      "X_test shape: (114174,)\n",
      "\n",
      "X_test type: <class 'pandas.core.series.Series'>\n",
      "\n",
      "X_test: \n",
      "571372                            im so proud of my country\n",
      "355494                                           rip camera\n",
      "548323    beastwhat stupid stuff should i send dream mec...\n",
      "83502                                                 first\n",
      "21589                                             oh my god\n",
      "                                ...                        \n",
      "251133                             send dream chandler poop\n",
      "336772                                               legend\n",
      "579820                                  im a minecraft noob\n",
      "110176                                        can he breath\n",
      "248397    the way mrbeast said pizza i thought it would ...\n",
      "Name: Comment, Length: 114174, dtype: object\n"
     ]
    }
   ],
   "source": [
    "print(f'X_test shape: {X_test.shape}\\n\\nX_test type: {type(X_test)}\\n\\nX_test: \\n{X_test}')"
   ]
  },
  {
   "cell_type": "code",
   "execution_count": 22,
   "id": "fec99c3b",
   "metadata": {
    "id": "fec99c3b",
    "outputId": "558f72eb-6ac2-476e-e40e-db5b9a43fc6d"
   },
   "outputs": [
    {
     "name": "stdout",
     "output_type": "stream",
     "text": [
      "Total Time Taken 11.257979393005371s\n"
     ]
    }
   ],
   "source": [
    "start_time = time.time()\n",
    "\n",
    "tokenizer = Tokenizer()\n",
    "\n",
    "tokenizer.fit_on_texts(np.append(X_train, X_test))\n",
    "\n",
    "maximum_length_keras = max([len(comment.split()) for comment in np.append(X_train, X_test)])\n",
    "\n",
    "vocab_length_keras = len(tokenizer.word_index) + 1\n",
    "\n",
    "X_train_tokens = tokenizer.texts_to_sequences(X_train)\n",
    "X_test_tokens = tokenizer.texts_to_sequences(X_test)\n",
    "\n",
    "X_train_tokens = pad_sequences(X_train_tokens, maxlen=maximum_length_keras, padding='post')\n",
    "X_test_tokens = pad_sequences(X_test_tokens, maxlen=maximum_length_keras, padding='post')\n",
    "\n",
    "end_time = time.time()\n",
    "print(f'Total Time Taken {end_time - start_time}s')"
   ]
  },
  {
   "cell_type": "code",
   "execution_count": 23,
   "id": "36b55547",
   "metadata": {},
   "outputs": [
    {
     "name": "stdout",
     "output_type": "stream",
     "text": [
      "X_train_tokens shape: (456694, 2100)\n",
      "\n",
      "X_train_tokens type: <class 'numpy.ndarray'>\n",
      "\n",
      "X_train_tokens: \n",
      "[[    7     5   110 ...     0     0     0]\n",
      " [    1   179   122 ...     0     0     0]\n",
      " [   23   169    22 ...     0     0     0]\n",
      " ...\n",
      " [89576     0     0 ...     0     0     0]\n",
      " [   22     5     2 ...     0     0     0]\n",
      " [   88     2   940 ...     0     0     0]]\n"
     ]
    }
   ],
   "source": [
    "print(f'X_train_tokens shape: {X_train_tokens.shape}\\n\\nX_train_tokens type: {type(X_train_tokens)}\\n\\nX_train_tokens: \\n{X_train_tokens}')"
   ]
  },
  {
   "cell_type": "code",
   "execution_count": 24,
   "id": "b4694d89",
   "metadata": {},
   "outputs": [
    {
     "name": "stdout",
     "output_type": "stream",
     "text": [
      "X_test_tokens shape: (114174, 2100)\n",
      "\n",
      "X_test_tokens type: <class 'numpy.ndarray'>\n",
      "\n",
      "X_test_tokens: \n",
      "[[   28    18   992 ...     0     0     0]\n",
      " [  281   223     0 ...     0     0     0]\n",
      " [14442   261   370 ...     0     0     0]\n",
      " ...\n",
      " [   28     3   194 ...     0     0     0]\n",
      " [   32    20   599 ...     0     0     0]\n",
      " [    2   169    22 ...     0     0     0]]\n"
     ]
    }
   ],
   "source": [
    "print(f'X_test_tokens shape: {X_test_tokens.shape}\\n\\nX_test_tokens type: {type(X_test_tokens)}\\n\\nX_test_tokens: \\n{X_test_tokens}')"
   ]
  },
  {
   "cell_type": "code",
   "execution_count": 25,
   "id": "20ed5985",
   "metadata": {},
   "outputs": [
    {
     "name": "stdout",
     "output_type": "stream",
     "text": [
      "Vocab Lengh: 102612\n",
      "Maximum Length: 2100\n"
     ]
    }
   ],
   "source": [
    "print(f'Vocab Lengh: {vocab_length_keras}\\nMaximum Length: {maximum_length_keras}')"
   ]
  },
  {
   "cell_type": "code",
   "execution_count": 26,
   "id": "VX3TzqNvQBsR",
   "metadata": {
    "id": "VX3TzqNvQBsR"
   },
   "outputs": [],
   "source": [
    "import pickle\n",
    "\n",
    "# saving\n",
    "with open('LSTM/tokenizer.pickle', 'wb') as handle:\n",
    "    pickle.dump(tokenizer, handle, protocol=pickle.HIGHEST_PROTOCOL)\n",
    "\n",
    "# # loading\n",
    "# with open('data/tokenizer.pickle', 'rb') as handle:\n",
    "#     tokenizer = pickle.load(handle)"
   ]
  },
  {
   "cell_type": "code",
   "execution_count": 27,
   "id": "cf56d02a",
   "metadata": {
    "id": "cf56d02a"
   },
   "outputs": [],
   "source": [
    "np.save('LSTM/keras_embeddings_train', X_train_tokens)\n",
    "np.save('LSTM/keras_embeddings_test', X_test_tokens)"
   ]
  },
  {
   "cell_type": "markdown",
   "id": "30493772",
   "metadata": {
    "id": "30493772"
   },
   "source": [
    "## One Hot Encoding"
   ]
  },
  {
   "cell_type": "code",
   "execution_count": 28,
   "id": "3ded267e",
   "metadata": {},
   "outputs": [
    {
     "name": "stdout",
     "output_type": "stream",
     "text": [
      "y_train shape: (456694,)\n",
      "\n",
      "y_train type: <class 'pandas.core.series.Series'>\n",
      "\n",
      "y_train: \n",
      "289169    Positive\n",
      "21672     Negative\n",
      "465047    Positive\n",
      "316186    Negative\n",
      "542880    Positive\n",
      "            ...   \n",
      "226737     Neutral\n",
      "471449    Positive\n",
      "574846     Neutral\n",
      "410398    Positive\n",
      "43536     Positive\n",
      "Name: Sentiment, Length: 456694, dtype: object\n"
     ]
    }
   ],
   "source": [
    "print(f'y_train shape: {y_train.shape}\\n\\ny_train type: {type(y_train)}\\n\\ny_train: \\n{y_train}')"
   ]
  },
  {
   "cell_type": "code",
   "execution_count": 29,
   "id": "a1c00f78",
   "metadata": {},
   "outputs": [
    {
     "name": "stdout",
     "output_type": "stream",
     "text": [
      "y_test shape: (114174,)\n",
      "\n",
      "y_test type: <class 'pandas.core.series.Series'>\n",
      "\n",
      "y_test: \n",
      "571372    Positive\n",
      "355494     Neutral\n",
      "548323    Negative\n",
      "83502      Neutral\n",
      "21589     Positive\n",
      "            ...   \n",
      "251133    Positive\n",
      "336772     Neutral\n",
      "579820    Negative\n",
      "110176     Neutral\n",
      "248397    Negative\n",
      "Name: Sentiment, Length: 114174, dtype: object\n"
     ]
    }
   ],
   "source": [
    "print(f'y_test shape: {y_test.shape}\\n\\ny_test type: {type(y_test)}\\n\\ny_test: \\n{y_test}')"
   ]
  },
  {
   "cell_type": "code",
   "execution_count": 30,
   "id": "192fc179",
   "metadata": {
    "id": "192fc179"
   },
   "outputs": [],
   "source": [
    "from sklearn.preprocessing import OneHotEncoder\n",
    "\n",
    "encoder = OneHotEncoder(sparse=False)\n",
    "\n",
    "y_train_encoded = encoder.fit_transform(np.array(y_train).reshape(-1, 1))\n",
    "y_test_encoded = encoder.transform(np.array(y_test).reshape(-1, 1))"
   ]
  },
  {
   "cell_type": "code",
   "execution_count": 32,
   "id": "7d2a3a04",
   "metadata": {
    "id": "7d2a3a04"
   },
   "outputs": [],
   "source": [
    "np.save('LSTM/y_train_encoded', y_train_encoded)\n",
    "np.save('LSTM/y_test_encoded', y_test_encoded)"
   ]
  },
  {
   "cell_type": "code",
   "execution_count": 43,
   "id": "64c41473",
   "metadata": {},
   "outputs": [
    {
     "data": {
      "text/plain": [
       "['LSTM/labelEncoder.joblib']"
      ]
     },
     "execution_count": 43,
     "metadata": {},
     "output_type": "execute_result"
    }
   ],
   "source": [
    "import joblib\n",
    "\n",
    "# to save encoder \n",
    "joblib.dump(encoder,'LSTM/labelEncoder.joblib',compress=9)"
   ]
  },
  {
   "cell_type": "code",
   "execution_count": 44,
   "id": "ad0f4103",
   "metadata": {},
   "outputs": [],
   "source": [
    "# load it when test\n",
    "# le=joblib.load('LSTM/labelEncoder.joblib')"
   ]
  },
  {
   "cell_type": "markdown",
   "id": "0e3bc3c8",
   "metadata": {
    "id": "0e3bc3c8"
   },
   "source": [
    "## LSTM"
   ]
  },
  {
   "cell_type": "code",
   "execution_count": 1,
   "id": "32571008",
   "metadata": {
    "colab": {
     "base_uri": "https://localhost:8080/"
    },
    "executionInfo": {
     "elapsed": 242,
     "status": "ok",
     "timestamp": 1650567960042,
     "user": {
      "displayName": "Eashan Kaushik",
      "userId": "04664395882350784972"
     },
     "user_tz": 240
    },
    "id": "32571008",
    "outputId": "ace6e730-7c55-4d4c-a888-58ec6540a786"
   },
   "outputs": [
    {
     "name": "stdout",
     "output_type": "stream",
     "text": [
      "Thu Apr 21 19:05:59 2022       \n",
      "+-----------------------------------------------------------------------------+\n",
      "| NVIDIA-SMI 460.32.03    Driver Version: 460.32.03    CUDA Version: 11.2     |\n",
      "|-------------------------------+----------------------+----------------------+\n",
      "| GPU  Name        Persistence-M| Bus-Id        Disp.A | Volatile Uncorr. ECC |\n",
      "| Fan  Temp  Perf  Pwr:Usage/Cap|         Memory-Usage | GPU-Util  Compute M. |\n",
      "|                               |                      |               MIG M. |\n",
      "|===============================+======================+======================|\n",
      "|   0  Tesla P100-PCIE...  Off  | 00000000:00:04.0 Off |                    0 |\n",
      "| N/A   34C    P0    26W / 250W |      0MiB / 16280MiB |      0%      Default |\n",
      "|                               |                      |                  N/A |\n",
      "+-------------------------------+----------------------+----------------------+\n",
      "                                                                               \n",
      "+-----------------------------------------------------------------------------+\n",
      "| Processes:                                                                  |\n",
      "|  GPU   GI   CI        PID   Type   Process name                  GPU Memory |\n",
      "|        ID   ID                                                   Usage      |\n",
      "|=============================================================================|\n",
      "|  No running processes found                                                 |\n",
      "+-----------------------------------------------------------------------------+\n"
     ]
    }
   ],
   "source": [
    "# gpu_info = !nvidia-smi\n",
    "# gpu_info = '\\n'.join(gpu_info)\n",
    "# if gpu_info.find('failed') >= 0:\n",
    "#   print('Not connected to a GPU')\n",
    "# else:\n",
    "#   print(gpu_info)"
   ]
  },
  {
   "cell_type": "code",
   "execution_count": 2,
   "id": "3f0be668",
   "metadata": {
    "colab": {
     "base_uri": "https://localhost:8080/"
    },
    "executionInfo": {
     "elapsed": 4,
     "status": "ok",
     "timestamp": 1650567960042,
     "user": {
      "displayName": "Eashan Kaushik",
      "userId": "04664395882350784972"
     },
     "user_tz": 240
    },
    "id": "3f0be668",
    "outputId": "0057a199-6e48-4b6b-d3a9-55c0b4e38bfc"
   },
   "outputs": [
    {
     "name": "stdout",
     "output_type": "stream",
     "text": [
      "Your runtime has 27.3 gigabytes of available RAM\n",
      "\n",
      "You are using a high-RAM runtime!\n"
     ]
    }
   ],
   "source": [
    "# from psutil import virtual_memory\n",
    "# ram_gb = virtual_memory().total / 1e9\n",
    "# print('Your runtime has {:.1f} gigabytes of available RAM\\n'.format(ram_gb))\n",
    "\n",
    "# if ram_gb < 20:\n",
    "#   print('Not using a high-RAM runtime')\n",
    "# else:\n",
    "#   print('You are using a high-RAM runtime!')"
   ]
  },
  {
   "cell_type": "code",
   "execution_count": 3,
   "id": "WvCjFXPzNJUy",
   "metadata": {
    "colab": {
     "base_uri": "https://localhost:8080/"
    },
    "executionInfo": {
     "elapsed": 21327,
     "status": "ok",
     "timestamp": 1650567981366,
     "user": {
      "displayName": "Eashan Kaushik",
      "userId": "04664395882350784972"
     },
     "user_tz": 240
    },
    "id": "WvCjFXPzNJUy",
    "outputId": "e007e43d-b614-43a1-cdd5-4fa0d798fc3c"
   },
   "outputs": [
    {
     "name": "stdout",
     "output_type": "stream",
     "text": [
      "Mounted at /content/drive\n"
     ]
    }
   ],
   "source": [
    "# from google.colab import drive\n",
    "# drive.mount('/content/drive')"
   ]
  },
  {
   "cell_type": "code",
   "execution_count": 4,
   "id": "bFq1R4MijiJl",
   "metadata": {
    "colab": {
     "base_uri": "https://localhost:8080/"
    },
    "executionInfo": {
     "elapsed": 3688,
     "status": "ok",
     "timestamp": 1650567985051,
     "user": {
      "displayName": "Eashan Kaushik",
      "userId": "04664395882350784972"
     },
     "user_tz": 240
    },
    "id": "bFq1R4MijiJl",
    "outputId": "6ae0d673-46f8-4561-bf17-e3df3e67bdea"
   },
   "outputs": [
    {
     "name": "stdout",
     "output_type": "stream",
     "text": [
      "Requirement already satisfied: scipy in /usr/local/lib/python3.7/dist-packages (1.4.1)\n",
      "Requirement already satisfied: numpy>=1.13.3 in /usr/local/lib/python3.7/dist-packages (from scipy) (1.21.6)\n"
     ]
    }
   ],
   "source": [
    "# !pip3 install scipy"
   ]
  },
  {
   "cell_type": "code",
   "execution_count": 48,
   "id": "ba6d68b2",
   "metadata": {
    "executionInfo": {
     "elapsed": 46218,
     "status": "ok",
     "timestamp": 1650568036682,
     "user": {
      "displayName": "Eashan Kaushik",
      "userId": "04664395882350784972"
     },
     "user_tz": 240
    },
    "id": "ba6d68b2"
   },
   "outputs": [],
   "source": [
    "# '/content/drive/My Drive/\n",
    "import numpy as np\n",
    "# from scipy.sparse import _csr\n",
    "\n",
    "# X_train_tokens = np.load('/content/drive/My Drive/youtube-comment-analysis/keras_embeddings_train.npy', allow_pickle=True)\n",
    "# y_train_encoded = np.load('/content/drive/My Drive/youtube-comment-analysis/y_train_encoded.npy', allow_pickle=True)\n",
    "# X_test_tokens = np.load('/content/drive/My Drive/youtube-comment-analysis/keras_embeddings_test.npy', allow_pickle=True)\n",
    "# y_test_encoded = np.load('/content/drive/My Drive/youtube-comment-analysis/y_test_encoded.npy', allow_pickle=True)\n",
    "\n",
    "X_train_tokens = np.load('LSTM/keras_embeddings_train.npy', allow_pickle=True)\n",
    "y_train_encoded = np.load('LSTM/y_train_encoded.npy', allow_pickle=True)\n",
    "X_test_tokens = np.load('LSTM/keras_embeddings_test.npy', allow_pickle=True)\n",
    "y_test_encoded = np.load('LSTM/y_test_encoded.npy', allow_pickle=True)"
   ]
  },
  {
   "cell_type": "code",
   "execution_count": 49,
   "id": "b624f62d",
   "metadata": {
    "executionInfo": {
     "elapsed": 118,
     "status": "ok",
     "timestamp": 1650568042562,
     "user": {
      "displayName": "Eashan Kaushik",
      "userId": "04664395882350784972"
     },
     "user_tz": 240
    },
    "id": "b624f62d"
   },
   "outputs": [],
   "source": [
    "VOCAB = 102612\n",
    "EMBEDDINGS = 100\n",
    "MAXIMUM_LENTH = 2100"
   ]
  },
  {
   "cell_type": "code",
   "execution_count": 50,
   "id": "38dd19cc",
   "metadata": {
    "executionInfo": {
     "elapsed": 154,
     "status": "ok",
     "timestamp": 1650568058971,
     "user": {
      "displayName": "Eashan Kaushik",
      "userId": "04664395882350784972"
     },
     "user_tz": 240
    },
    "id": "38dd19cc"
   },
   "outputs": [],
   "source": [
    "from keras.models import Sequential\n",
    "from keras.layers import LSTM, Dense, GRU, Bidirectional\n",
    "from keras.layers.embeddings import Embedding"
   ]
  },
  {
   "cell_type": "code",
   "execution_count": 51,
   "id": "226e57c6",
   "metadata": {
    "executionInfo": {
     "elapsed": 4428,
     "status": "ok",
     "timestamp": 1650568149126,
     "user": {
      "displayName": "Eashan Kaushik",
      "userId": "04664395882350784972"
     },
     "user_tz": 240
    },
    "id": "226e57c6"
   },
   "outputs": [],
   "source": [
    "lstm = Sequential()\n",
    "lstm.add(Embedding(VOCAB, EMBEDDINGS, input_length=MAXIMUM_LENTH))\n",
    "# lstm.add(GRU(activation='tanh', units=32, dropout=0.2))\n",
    "lstm.add(Bidirectional(LSTM(128, return_sequences=True)))\n",
    "lstm.add(Bidirectional(LSTM(64)))\n",
    "lstm.add(Dense(64, activation='relu'))\n",
    "lstm.add(Dense(64, activation='relu'))\n",
    "lstm.add(Dense(3, activation='softmax'))"
   ]
  },
  {
   "cell_type": "code",
   "execution_count": 52,
   "id": "69789976",
   "metadata": {
    "executionInfo": {
     "elapsed": 138,
     "status": "ok",
     "timestamp": 1650568151473,
     "user": {
      "displayName": "Eashan Kaushik",
      "userId": "04664395882350784972"
     },
     "user_tz": 240
    },
    "id": "69789976"
   },
   "outputs": [],
   "source": [
    "lstm.compile(loss='categorical_crossentropy', optimizer='adam', metrics=['accuracy'])"
   ]
  },
  {
   "cell_type": "code",
   "execution_count": 53,
   "id": "6c084058",
   "metadata": {
    "colab": {
     "base_uri": "https://localhost:8080/"
    },
    "executionInfo": {
     "elapsed": 124,
     "status": "ok",
     "timestamp": 1650568152501,
     "user": {
      "displayName": "Eashan Kaushik",
      "userId": "04664395882350784972"
     },
     "user_tz": 240
    },
    "id": "6c084058",
    "outputId": "2c31c01f-a469-4fae-dcef-074a4e37e055"
   },
   "outputs": [
    {
     "name": "stdout",
     "output_type": "stream",
     "text": [
      "Model: \"sequential\"\n",
      "_________________________________________________________________\n",
      " Layer (type)                Output Shape              Param #   \n",
      "=================================================================\n",
      " embedding (Embedding)       (None, 2100, 100)         10261200  \n",
      "                                                                 \n",
      " bidirectional (Bidirectiona  (None, 2100, 256)        234496    \n",
      " l)                                                              \n",
      "                                                                 \n",
      " bidirectional_1 (Bidirectio  (None, 128)              164352    \n",
      " nal)                                                            \n",
      "                                                                 \n",
      " dense (Dense)               (None, 64)                8256      \n",
      "                                                                 \n",
      " dense_1 (Dense)             (None, 64)                4160      \n",
      "                                                                 \n",
      " dense_2 (Dense)             (None, 3)                 195       \n",
      "                                                                 \n",
      "=================================================================\n",
      "Total params: 10,672,659\n",
      "Trainable params: 10,672,659\n",
      "Non-trainable params: 0\n",
      "_________________________________________________________________\n"
     ]
    }
   ],
   "source": [
    "lstm.summary()"
   ]
  },
  {
   "cell_type": "code",
   "execution_count": 54,
   "id": "3e514eb3",
   "metadata": {
    "colab": {
     "base_uri": "https://localhost:8080/"
    },
    "id": "3e514eb3",
    "outputId": "61f1511e-1897-4f8b-df99-c904610970ea"
   },
   "outputs": [
    {
     "name": "stdout",
     "output_type": "stream",
     "text": [
      "Epoch 1/3\n",
      "7136/7136 [==============================] - 2378s 332ms/step - loss: 0.1190 - accuracy: 0.9577 - val_loss: 0.0566 - val_accuracy: 0.9814\n",
      "Epoch 2/3\n",
      "7136/7136 [==============================] - 2343s 328ms/step - loss: 0.0413 - accuracy: 0.9861 - val_loss: 0.0543 - val_accuracy: 0.9822\n",
      "Epoch 3/3\n",
      "7136/7136 [==============================] - 2349s 329ms/step - loss: 0.0291 - accuracy: 0.9901 - val_loss: 0.0548 - val_accuracy: 0.9833\n"
     ]
    },
    {
     "data": {
      "text/plain": [
       "<keras.callbacks.History at 0x1cd44679d00>"
      ]
     },
     "execution_count": 54,
     "metadata": {},
     "output_type": "execute_result"
    }
   ],
   "source": [
    "lstm.fit(X_train_tokens, y_train_encoded, batch_size=64, epochs=3, validation_data=(X_test_tokens, y_test_encoded))"
   ]
  },
  {
   "cell_type": "code",
   "execution_count": 55,
   "id": "f4fbd64a",
   "metadata": {},
   "outputs": [],
   "source": [
    "lstm.save('LSTM/model_lstm.h5')"
   ]
  },
  {
   "cell_type": "code",
   "execution_count": 56,
   "id": "12579c99",
   "metadata": {},
   "outputs": [],
   "source": [
    "lstm.save_weights('LSTM/model_lstm_weights.h5')"
   ]
  },
  {
   "cell_type": "code",
   "execution_count": 57,
   "id": "2fa02153",
   "metadata": {},
   "outputs": [],
   "source": [
    "# lstm = load_model('LSTM/model_lstm.h5')"
   ]
  },
  {
   "cell_type": "code",
   "execution_count": null,
   "id": "54a37ab5",
   "metadata": {},
   "outputs": [],
   "source": [
    "# model.load_weights('LSTM/model_lstm_weights.h5')"
   ]
  },
  {
   "cell_type": "code",
   "execution_count": 9,
   "id": "vmiqA3EtRQM_",
   "metadata": {
    "colab": {
     "base_uri": "https://localhost:8080/"
    },
    "executionInfo": {
     "elapsed": 160822,
     "status": "ok",
     "timestamp": 1650248706763,
     "user": {
      "displayName": "Eashan Kaushik",
      "userId": "04664395882350784972"
     },
     "user_tz": 240
    },
    "id": "vmiqA3EtRQM_",
    "outputId": "361affdf-4e1f-40a8-fbe3-35b864bff63a"
   },
   "outputs": [
    {
     "data": {
      "text/plain": [
       "array([[0.9867465 , 0.00103574, 0.01221779],\n",
       "       [0.7764331 , 0.0055568 , 0.21801011],\n",
       "       [0.97494704, 0.00329035, 0.02176264],\n",
       "       ...,\n",
       "       [0.00179619, 0.9944047 , 0.00379911],\n",
       "       [0.00259886, 0.00541325, 0.99198794],\n",
       "       [0.00265838, 0.00565192, 0.9916897 ]], dtype=float32)"
      ]
     },
     "execution_count": 9,
     "metadata": {},
     "output_type": "execute_result"
    }
   ],
   "source": [
    "lstm.predict(X_test_tokens)"
   ]
  }
 ],
 "metadata": {
  "accelerator": "GPU",
  "colab": {
   "machine_shape": "hm",
   "name": "LSTM.ipynb",
   "provenance": []
  },
  "kernelspec": {
   "display_name": "Python 3 (ipykernel)",
   "language": "python",
   "name": "python3"
  },
  "language_info": {
   "codemirror_mode": {
    "name": "ipython",
    "version": 3
   },
   "file_extension": ".py",
   "mimetype": "text/x-python",
   "name": "python",
   "nbconvert_exporter": "python",
   "pygments_lexer": "ipython3",
   "version": "3.9.11"
  }
 },
 "nbformat": 4,
 "nbformat_minor": 5
}
