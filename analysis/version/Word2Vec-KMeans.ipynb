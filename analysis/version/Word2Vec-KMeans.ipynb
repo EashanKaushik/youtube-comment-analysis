{
 "cells": [
  {
   "cell_type": "markdown",
   "id": "3ab1048b",
   "metadata": {},
   "source": [
    "# Import Libraries"
   ]
  },
  {
   "cell_type": "code",
   "execution_count": 12,
   "id": "fb360240",
   "metadata": {},
   "outputs": [],
   "source": [
    "import os\n",
    "import pandas as pd\n",
    "import numpy\n",
    "import matplotlib.pyplot as plt\n",
    "import seaborn as sns"
   ]
  },
  {
   "cell_type": "code",
   "execution_count": 13,
   "id": "6cb96028",
   "metadata": {},
   "outputs": [],
   "source": [
    "%matplotlib inline"
   ]
  },
  {
   "cell_type": "code",
   "execution_count": 14,
   "id": "c1db540b",
   "metadata": {},
   "outputs": [],
   "source": [
    "from read_data import combine_all, combine_category, read_data"
   ]
  },
  {
   "cell_type": "code",
   "execution_count": 15,
   "id": "c63ae97c",
   "metadata": {},
   "outputs": [],
   "source": [
    "import gensim\n",
    "import re\n",
    "from time import time\n",
    "from collections import defaultdict\n",
    "import spacy\n",
    "import multiprocessing\n",
    "\n",
    "from gensim.models import Word2Vec\n",
    "from gensim.models.phrases import Phrases, Phraser\n",
    "from sklearn.cluster import KMeans\n",
    "from yellowbrick.cluster import SilhouetteVisualizer\n",
    "from yellowbrick.datasets import load_nfl\n",
    "from sklearn.metrics import silhouette_samples, silhouette_score"
   ]
  },
  {
   "cell_type": "markdown",
   "id": "5a81c0e8",
   "metadata": {},
   "source": [
    "# Working on Entire Dataset"
   ]
  },
  {
   "cell_type": "markdown",
   "id": "fb2d3e65",
   "metadata": {},
   "source": [
    "## Reading Dataset"
   ]
  },
  {
   "cell_type": "code",
   "execution_count": 5,
   "id": "f2342a36",
   "metadata": {},
   "outputs": [],
   "source": [
    "data = combine_all() # this function is written by us for reading all the dataset for different videos"
   ]
  },
  {
   "cell_type": "code",
   "execution_count": 6,
   "id": "d8e10ff1",
   "metadata": {},
   "outputs": [
    {
     "data": {
      "text/html": [
       "<div>\n",
       "<style scoped>\n",
       "    .dataframe tbody tr th:only-of-type {\n",
       "        vertical-align: middle;\n",
       "    }\n",
       "\n",
       "    .dataframe tbody tr th {\n",
       "        vertical-align: top;\n",
       "    }\n",
       "\n",
       "    .dataframe thead th {\n",
       "        text-align: right;\n",
       "    }\n",
       "</style>\n",
       "<table border=\"1\" class=\"dataframe\">\n",
       "  <thead>\n",
       "    <tr style=\"text-align: right;\">\n",
       "      <th></th>\n",
       "      <th>Name</th>\n",
       "      <th>Comment</th>\n",
       "      <th>Time</th>\n",
       "      <th>Likes</th>\n",
       "      <th>Reply Count\\r</th>\n",
       "      <th>Reply Count</th>\n",
       "    </tr>\n",
       "  </thead>\n",
       "  <tbody>\n",
       "    <tr>\n",
       "      <th>0</th>\n",
       "      <td>MrBeast</td>\n",
       "      <td>Like I said in the video, subscribe if you hav...</td>\n",
       "      <td>2021-11-24T21:02:45Z</td>\n",
       "      <td>860124</td>\n",
       "      <td>411.0</td>\n",
       "      <td>NaN</td>\n",
       "    </tr>\n",
       "    <tr>\n",
       "      <th>1</th>\n",
       "      <td>Natanael De La Torre</td>\n",
       "      <td>IRL:squid game already IRL</td>\n",
       "      <td>2022-04-03T01:26:06Z</td>\n",
       "      <td>0</td>\n",
       "      <td>0.0</td>\n",
       "      <td>NaN</td>\n",
       "    </tr>\n",
       "    <tr>\n",
       "      <th>2</th>\n",
       "      <td>Rexx2Byte</td>\n",
       "      <td>4:39 EYYYYYYY WASSUP NIGHT FOX</td>\n",
       "      <td>2022-04-03T01:19:41Z</td>\n",
       "      <td>1</td>\n",
       "      <td>0.0</td>\n",
       "      <td>NaN</td>\n",
       "    </tr>\n",
       "    <tr>\n",
       "      <th>3</th>\n",
       "      <td>HK KING868</td>\n",
       "      <td>After reject Netflix</td>\n",
       "      <td>2022-04-03T01:06:44Z</td>\n",
       "      <td>0</td>\n",
       "      <td>0.0</td>\n",
       "      <td>NaN</td>\n",
       "    </tr>\n",
       "    <tr>\n",
       "      <th>4</th>\n",
       "      <td>Dragon Walker</td>\n",
       "      <td>some people just made the marbles game so conf...</td>\n",
       "      <td>2022-04-03T01:06:41Z</td>\n",
       "      <td>1</td>\n",
       "      <td>0.0</td>\n",
       "      <td>NaN</td>\n",
       "    </tr>\n",
       "  </tbody>\n",
       "</table>\n",
       "</div>"
      ],
      "text/plain": [
       "                   Name                                            Comment  \\\n",
       "0               MrBeast  Like I said in the video, subscribe if you hav...   \n",
       "1  Natanael De La Torre                         IRL:squid game already IRL   \n",
       "2             Rexx2Byte                     4:39 EYYYYYYY WASSUP NIGHT FOX   \n",
       "3            HK KING868                               After reject Netflix   \n",
       "4         Dragon Walker  some people just made the marbles game so conf...   \n",
       "\n",
       "                   Time   Likes  Reply Count\\r  Reply Count  \n",
       "0  2021-11-24T21:02:45Z  860124          411.0          NaN  \n",
       "1  2022-04-03T01:26:06Z       0            0.0          NaN  \n",
       "2  2022-04-03T01:19:41Z       1            0.0          NaN  \n",
       "3  2022-04-03T01:06:44Z       0            0.0          NaN  \n",
       "4  2022-04-03T01:06:41Z       1            0.0          NaN  "
      ]
     },
     "execution_count": 6,
     "metadata": {},
     "output_type": "execute_result"
    }
   ],
   "source": [
    "data.head(5)"
   ]
  },
  {
   "cell_type": "code",
   "execution_count": 37,
   "id": "c83af903",
   "metadata": {},
   "outputs": [],
   "source": [
    "df = data[['Name', 'Comment']]"
   ]
  },
  {
   "cell_type": "code",
   "execution_count": 38,
   "id": "8b502dbf",
   "metadata": {},
   "outputs": [
    {
     "name": "stdout",
     "output_type": "stream",
     "text": [
      "<class 'pandas.core.frame.DataFrame'>\n",
      "Int64Index: 1351212 entries, 0 to 70956\n",
      "Data columns (total 2 columns):\n",
      " #   Column   Non-Null Count    Dtype \n",
      "---  ------   --------------    ----- \n",
      " 0   Name     1351105 non-null  object\n",
      " 1   Comment  1350925 non-null  object\n",
      "dtypes: object(2)\n",
      "memory usage: 30.9+ MB\n"
     ]
    }
   ],
   "source": [
    "df.info()"
   ]
  },
  {
   "cell_type": "markdown",
   "id": "ae57b628",
   "metadata": {},
   "source": [
    "## Data Cleaning"
   ]
  },
  {
   "cell_type": "code",
   "execution_count": 17,
   "id": "8db9e266",
   "metadata": {},
   "outputs": [
    {
     "data": {
      "text/plain": [
       "Name       107\n",
       "Comment    287\n",
       "dtype: int64"
      ]
     },
     "execution_count": 17,
     "metadata": {},
     "output_type": "execute_result"
    }
   ],
   "source": [
    "df.isnull().sum() # total number of rows with null values"
   ]
  },
  {
   "cell_type": "code",
   "execution_count": 18,
   "id": "fc083e17",
   "metadata": {},
   "outputs": [],
   "source": [
    "df = df.dropna() # removing null values"
   ]
  },
  {
   "cell_type": "code",
   "execution_count": 19,
   "id": "dd5a8c93",
   "metadata": {},
   "outputs": [
    {
     "data": {
      "text/plain": [
       "Name       0\n",
       "Comment    0\n",
       "dtype: int64"
      ]
     },
     "execution_count": 19,
     "metadata": {},
     "output_type": "execute_result"
    }
   ],
   "source": [
    "df.isnull().sum() # total number of rows with null values"
   ]
  },
  {
   "cell_type": "code",
   "execution_count": 20,
   "id": "829ead91",
   "metadata": {},
   "outputs": [],
   "source": [
    "# python -m spacy download en"
   ]
  },
  {
   "cell_type": "code",
   "execution_count": 21,
   "id": "401963e6",
   "metadata": {},
   "outputs": [],
   "source": [
    "nlp = spacy.load('en_core_web_sm', disable=['ner', 'parser'])\n",
    "\n",
    "def cleaning(doc):\n",
    "\n",
    "    txt = [token.lemma_ for token in doc if not token.is_stop]\n",
    "   \n",
    "    if len(txt) > 2:\n",
    "        return ' '.join(txt)"
   ]
  },
  {
   "cell_type": "code",
   "execution_count": 22,
   "id": "33fa7795",
   "metadata": {},
   "outputs": [],
   "source": [
    "brief_cleaning = (re.sub(\"[^A-Za-z']+\", ' ', str(row)).lower() for row in df['Comment'])"
   ]
  },
  {
   "cell_type": "code",
   "execution_count": 23,
   "id": "0c5bdb58",
   "metadata": {},
   "outputs": [
    {
     "name": "stdout",
     "output_type": "stream",
     "text": [
      "Time to clean up everything: 9.49 mins\n"
     ]
    }
   ],
   "source": [
    "t = time()\n",
    "\n",
    "txt = [cleaning(doc) for doc in nlp.pipe(brief_cleaning, batch_size=5000)]\n",
    "\n",
    "print('Time to clean up everything: {} mins'.format(round((time() - t) / 60, 2)))"
   ]
  },
  {
   "cell_type": "code",
   "execution_count": 24,
   "id": "900eb538",
   "metadata": {},
   "outputs": [
    {
     "data": {
      "text/plain": [
       "(607501, 1)"
      ]
     },
     "execution_count": 24,
     "metadata": {},
     "output_type": "execute_result"
    }
   ],
   "source": [
    "df_clean = pd.DataFrame({'clean': txt})\n",
    "df_clean = df_clean.dropna().drop_duplicates()\n",
    "df_clean.shape"
   ]
  },
  {
   "cell_type": "code",
   "execution_count": 25,
   "id": "502b8170",
   "metadata": {},
   "outputs": [],
   "source": [
    "df_clean.to_csv('clean.csv')"
   ]
  },
  {
   "cell_type": "code",
   "execution_count": 16,
   "id": "144a7e75",
   "metadata": {},
   "outputs": [],
   "source": [
    "df_clean = pd.read_csv('clean.csv')"
   ]
  },
  {
   "cell_type": "markdown",
   "id": "7a868206",
   "metadata": {},
   "source": [
    "## Bigrams"
   ]
  },
  {
   "cell_type": "code",
   "execution_count": 17,
   "id": "8dc45e6a",
   "metadata": {},
   "outputs": [],
   "source": [
    "sent = [row.split() for row in df_clean['clean']]"
   ]
  },
  {
   "cell_type": "code",
   "execution_count": 18,
   "id": "04ff3890",
   "metadata": {},
   "outputs": [],
   "source": [
    "phrases = Phrases(sent, min_count=30, progress_per=10000)"
   ]
  },
  {
   "cell_type": "code",
   "execution_count": 19,
   "id": "fdb77d6e",
   "metadata": {},
   "outputs": [],
   "source": [
    "bigram = Phraser(phrases)"
   ]
  },
  {
   "cell_type": "code",
   "execution_count": 20,
   "id": "9dce0bcf",
   "metadata": {},
   "outputs": [],
   "source": [
    "sentences = bigram[sent]"
   ]
  },
  {
   "cell_type": "markdown",
   "id": "3774d666",
   "metadata": {},
   "source": [
    "## Most Frequent Words"
   ]
  },
  {
   "cell_type": "code",
   "execution_count": 21,
   "id": "5911bfee",
   "metadata": {},
   "outputs": [
    {
     "data": {
      "text/plain": [
       "108791"
      ]
     },
     "execution_count": 21,
     "metadata": {},
     "output_type": "execute_result"
    }
   ],
   "source": [
    "word_freq = defaultdict(int)\n",
    "for sent in sentences:\n",
    "    for i in sent:\n",
    "        word_freq[i] += 1\n",
    "len(word_freq)"
   ]
  },
  {
   "cell_type": "code",
   "execution_count": 22,
   "id": "81fae0ef",
   "metadata": {},
   "outputs": [
    {
     "data": {
      "text/plain": [
       "['mr_beast', 'mrbeast', 'm', 's', 'jimmy', 'love', 'good', 'win', 'u', 'video']"
      ]
     },
     "execution_count": 22,
     "metadata": {},
     "output_type": "execute_result"
    }
   ],
   "source": [
    "sorted(word_freq, key=word_freq.get, reverse=True)[:10]"
   ]
  },
  {
   "cell_type": "markdown",
   "id": "1525054b",
   "metadata": {},
   "source": [
    "## World2Vec Model"
   ]
  },
  {
   "cell_type": "code",
   "execution_count": 23,
   "id": "b22e08db",
   "metadata": {},
   "outputs": [],
   "source": [
    "w2v_model = Word2Vec(min_count=3,\n",
    "                     window=4,\n",
    "                     vector_size=300,\n",
    "                     sample=1e-5, \n",
    "                     alpha=0.03, \n",
    "                     min_alpha=0.0007, \n",
    "                     negative=20,\n",
    "                     workers=multiprocessing.cpu_count()-1)"
   ]
  },
  {
   "cell_type": "code",
   "execution_count": 24,
   "id": "dd7212c6",
   "metadata": {},
   "outputs": [
    {
     "name": "stdout",
     "output_type": "stream",
     "text": [
      "Time to build vocab: 0.06 mins\n"
     ]
    }
   ],
   "source": [
    "t = time()\n",
    "\n",
    "w2v_model.build_vocab(sentences, progress_per=10000)\n",
    "\n",
    "print('Time to build vocab: {} mins'.format(round((time() - t) / 60, 2)))"
   ]
  },
  {
   "cell_type": "code",
   "execution_count": 25,
   "id": "be4d4958",
   "metadata": {},
   "outputs": [
    {
     "ename": "KeyboardInterrupt",
     "evalue": "",
     "output_type": "error",
     "traceback": [
      "\u001b[1;31m---------------------------------------------------------------------------\u001b[0m",
      "\u001b[1;31mKeyboardInterrupt\u001b[0m                         Traceback (most recent call last)",
      "Input \u001b[1;32mIn [25]\u001b[0m, in \u001b[0;36m<cell line: 3>\u001b[1;34m()\u001b[0m\n\u001b[0;32m      1\u001b[0m t \u001b[38;5;241m=\u001b[39m time()\n\u001b[1;32m----> 3\u001b[0m \u001b[43mw2v_model\u001b[49m\u001b[38;5;241;43m.\u001b[39;49m\u001b[43mtrain\u001b[49m\u001b[43m(\u001b[49m\u001b[43msentences\u001b[49m\u001b[43m,\u001b[49m\u001b[43m \u001b[49m\u001b[43mtotal_examples\u001b[49m\u001b[38;5;241;43m=\u001b[39;49m\u001b[43mw2v_model\u001b[49m\u001b[38;5;241;43m.\u001b[39;49m\u001b[43mcorpus_count\u001b[49m\u001b[43m,\u001b[49m\u001b[43m \u001b[49m\u001b[43mepochs\u001b[49m\u001b[38;5;241;43m=\u001b[39;49m\u001b[38;5;241;43m30\u001b[39;49m\u001b[43m,\u001b[49m\u001b[43m \u001b[49m\u001b[43mreport_delay\u001b[49m\u001b[38;5;241;43m=\u001b[39;49m\u001b[38;5;241;43m1\u001b[39;49m\u001b[43m)\u001b[49m\n\u001b[0;32m      5\u001b[0m \u001b[38;5;28mprint\u001b[39m(\u001b[38;5;124m'\u001b[39m\u001b[38;5;124mTime to train the model: \u001b[39m\u001b[38;5;132;01m{}\u001b[39;00m\u001b[38;5;124m mins\u001b[39m\u001b[38;5;124m'\u001b[39m\u001b[38;5;241m.\u001b[39mformat(\u001b[38;5;28mround\u001b[39m((time() \u001b[38;5;241m-\u001b[39m t) \u001b[38;5;241m/\u001b[39m \u001b[38;5;241m60\u001b[39m, \u001b[38;5;241m2\u001b[39m)))\n",
      "File \u001b[1;32m~\\anaconda3\\envs\\mmds\\lib\\site-packages\\gensim\\models\\word2vec.py:1069\u001b[0m, in \u001b[0;36mWord2Vec.train\u001b[1;34m(self, corpus_iterable, corpus_file, total_examples, total_words, epochs, start_alpha, end_alpha, word_count, queue_factor, report_delay, compute_loss, callbacks, **kwargs)\u001b[0m\n\u001b[0;32m   1066\u001b[0m     callback\u001b[38;5;241m.\u001b[39mon_epoch_begin(\u001b[38;5;28mself\u001b[39m)\n\u001b[0;32m   1068\u001b[0m \u001b[38;5;28;01mif\u001b[39;00m corpus_iterable \u001b[38;5;129;01mis\u001b[39;00m \u001b[38;5;129;01mnot\u001b[39;00m \u001b[38;5;28;01mNone\u001b[39;00m:\n\u001b[1;32m-> 1069\u001b[0m     trained_word_count_epoch, raw_word_count_epoch, job_tally_epoch \u001b[38;5;241m=\u001b[39m \u001b[38;5;28mself\u001b[39m\u001b[38;5;241m.\u001b[39m_train_epoch(\n\u001b[0;32m   1070\u001b[0m         corpus_iterable, cur_epoch\u001b[38;5;241m=\u001b[39mcur_epoch, total_examples\u001b[38;5;241m=\u001b[39mtotal_examples,\n\u001b[0;32m   1071\u001b[0m         total_words\u001b[38;5;241m=\u001b[39mtotal_words, queue_factor\u001b[38;5;241m=\u001b[39mqueue_factor, report_delay\u001b[38;5;241m=\u001b[39mreport_delay,\n\u001b[0;32m   1072\u001b[0m         callbacks\u001b[38;5;241m=\u001b[39mcallbacks, \u001b[38;5;241m*\u001b[39m\u001b[38;5;241m*\u001b[39mkwargs)\n\u001b[0;32m   1073\u001b[0m \u001b[38;5;28;01melse\u001b[39;00m:\n\u001b[0;32m   1074\u001b[0m     trained_word_count_epoch, raw_word_count_epoch, job_tally_epoch \u001b[38;5;241m=\u001b[39m \u001b[38;5;28mself\u001b[39m\u001b[38;5;241m.\u001b[39m_train_epoch_corpusfile(\n\u001b[0;32m   1075\u001b[0m         corpus_file, cur_epoch\u001b[38;5;241m=\u001b[39mcur_epoch, total_examples\u001b[38;5;241m=\u001b[39mtotal_examples, total_words\u001b[38;5;241m=\u001b[39mtotal_words,\n\u001b[0;32m   1076\u001b[0m         callbacks\u001b[38;5;241m=\u001b[39mcallbacks, \u001b[38;5;241m*\u001b[39m\u001b[38;5;241m*\u001b[39mkwargs)\n",
      "File \u001b[1;32m~\\anaconda3\\envs\\mmds\\lib\\site-packages\\gensim\\models\\word2vec.py:1430\u001b[0m, in \u001b[0;36mWord2Vec._train_epoch\u001b[1;34m(self, data_iterable, cur_epoch, total_examples, total_words, queue_factor, report_delay, callbacks)\u001b[0m\n\u001b[0;32m   1427\u001b[0m     thread\u001b[38;5;241m.\u001b[39mdaemon \u001b[38;5;241m=\u001b[39m \u001b[38;5;28;01mTrue\u001b[39;00m  \u001b[38;5;66;03m# make interrupting the process with ctrl+c easier\u001b[39;00m\n\u001b[0;32m   1428\u001b[0m     thread\u001b[38;5;241m.\u001b[39mstart()\n\u001b[1;32m-> 1430\u001b[0m trained_word_count, raw_word_count, job_tally \u001b[38;5;241m=\u001b[39m \u001b[38;5;28;43mself\u001b[39;49m\u001b[38;5;241;43m.\u001b[39;49m\u001b[43m_log_epoch_progress\u001b[49m\u001b[43m(\u001b[49m\n\u001b[0;32m   1431\u001b[0m \u001b[43m    \u001b[49m\u001b[43mprogress_queue\u001b[49m\u001b[43m,\u001b[49m\u001b[43m \u001b[49m\u001b[43mjob_queue\u001b[49m\u001b[43m,\u001b[49m\u001b[43m \u001b[49m\u001b[43mcur_epoch\u001b[49m\u001b[38;5;241;43m=\u001b[39;49m\u001b[43mcur_epoch\u001b[49m\u001b[43m,\u001b[49m\u001b[43m \u001b[49m\u001b[43mtotal_examples\u001b[49m\u001b[38;5;241;43m=\u001b[39;49m\u001b[43mtotal_examples\u001b[49m\u001b[43m,\u001b[49m\n\u001b[0;32m   1432\u001b[0m \u001b[43m    \u001b[49m\u001b[43mtotal_words\u001b[49m\u001b[38;5;241;43m=\u001b[39;49m\u001b[43mtotal_words\u001b[49m\u001b[43m,\u001b[49m\u001b[43m \u001b[49m\u001b[43mreport_delay\u001b[49m\u001b[38;5;241;43m=\u001b[39;49m\u001b[43mreport_delay\u001b[49m\u001b[43m,\u001b[49m\u001b[43m \u001b[49m\u001b[43mis_corpus_file_mode\u001b[49m\u001b[38;5;241;43m=\u001b[39;49m\u001b[38;5;28;43;01mFalse\u001b[39;49;00m\u001b[43m,\u001b[49m\n\u001b[0;32m   1433\u001b[0m \u001b[43m\u001b[49m\u001b[43m)\u001b[49m\n\u001b[0;32m   1435\u001b[0m \u001b[38;5;28;01mreturn\u001b[39;00m trained_word_count, raw_word_count, job_tally\n",
      "File \u001b[1;32m~\\anaconda3\\envs\\mmds\\lib\\site-packages\\gensim\\models\\word2vec.py:1285\u001b[0m, in \u001b[0;36mWord2Vec._log_epoch_progress\u001b[1;34m(self, progress_queue, job_queue, cur_epoch, total_examples, total_words, report_delay, is_corpus_file_mode)\u001b[0m\n\u001b[0;32m   1282\u001b[0m unfinished_worker_count \u001b[38;5;241m=\u001b[39m \u001b[38;5;28mself\u001b[39m\u001b[38;5;241m.\u001b[39mworkers\n\u001b[0;32m   1284\u001b[0m \u001b[38;5;28;01mwhile\u001b[39;00m unfinished_worker_count \u001b[38;5;241m>\u001b[39m \u001b[38;5;241m0\u001b[39m:\n\u001b[1;32m-> 1285\u001b[0m     report \u001b[38;5;241m=\u001b[39m \u001b[43mprogress_queue\u001b[49m\u001b[38;5;241;43m.\u001b[39;49m\u001b[43mget\u001b[49m\u001b[43m(\u001b[49m\u001b[43m)\u001b[49m  \u001b[38;5;66;03m# blocks if workers too slow\u001b[39;00m\n\u001b[0;32m   1286\u001b[0m     \u001b[38;5;28;01mif\u001b[39;00m report \u001b[38;5;129;01mis\u001b[39;00m \u001b[38;5;28;01mNone\u001b[39;00m:  \u001b[38;5;66;03m# a thread reporting that it finished\u001b[39;00m\n\u001b[0;32m   1287\u001b[0m         unfinished_worker_count \u001b[38;5;241m-\u001b[39m\u001b[38;5;241m=\u001b[39m \u001b[38;5;241m1\u001b[39m\n",
      "File \u001b[1;32m~\\anaconda3\\envs\\mmds\\lib\\queue.py:171\u001b[0m, in \u001b[0;36mQueue.get\u001b[1;34m(self, block, timeout)\u001b[0m\n\u001b[0;32m    169\u001b[0m \u001b[38;5;28;01melif\u001b[39;00m timeout \u001b[38;5;129;01mis\u001b[39;00m \u001b[38;5;28;01mNone\u001b[39;00m:\n\u001b[0;32m    170\u001b[0m     \u001b[38;5;28;01mwhile\u001b[39;00m \u001b[38;5;129;01mnot\u001b[39;00m \u001b[38;5;28mself\u001b[39m\u001b[38;5;241m.\u001b[39m_qsize():\n\u001b[1;32m--> 171\u001b[0m         \u001b[38;5;28;43mself\u001b[39;49m\u001b[38;5;241;43m.\u001b[39;49m\u001b[43mnot_empty\u001b[49m\u001b[38;5;241;43m.\u001b[39;49m\u001b[43mwait\u001b[49m\u001b[43m(\u001b[49m\u001b[43m)\u001b[49m\n\u001b[0;32m    172\u001b[0m \u001b[38;5;28;01melif\u001b[39;00m timeout \u001b[38;5;241m<\u001b[39m \u001b[38;5;241m0\u001b[39m:\n\u001b[0;32m    173\u001b[0m     \u001b[38;5;28;01mraise\u001b[39;00m \u001b[38;5;167;01mValueError\u001b[39;00m(\u001b[38;5;124m\"\u001b[39m\u001b[38;5;124m'\u001b[39m\u001b[38;5;124mtimeout\u001b[39m\u001b[38;5;124m'\u001b[39m\u001b[38;5;124m must be a non-negative number\u001b[39m\u001b[38;5;124m\"\u001b[39m)\n",
      "File \u001b[1;32m~\\anaconda3\\envs\\mmds\\lib\\threading.py:312\u001b[0m, in \u001b[0;36mCondition.wait\u001b[1;34m(self, timeout)\u001b[0m\n\u001b[0;32m    310\u001b[0m \u001b[38;5;28;01mtry\u001b[39;00m:    \u001b[38;5;66;03m# restore state no matter what (e.g., KeyboardInterrupt)\u001b[39;00m\n\u001b[0;32m    311\u001b[0m     \u001b[38;5;28;01mif\u001b[39;00m timeout \u001b[38;5;129;01mis\u001b[39;00m \u001b[38;5;28;01mNone\u001b[39;00m:\n\u001b[1;32m--> 312\u001b[0m         \u001b[43mwaiter\u001b[49m\u001b[38;5;241;43m.\u001b[39;49m\u001b[43macquire\u001b[49m\u001b[43m(\u001b[49m\u001b[43m)\u001b[49m\n\u001b[0;32m    313\u001b[0m         gotit \u001b[38;5;241m=\u001b[39m \u001b[38;5;28;01mTrue\u001b[39;00m\n\u001b[0;32m    314\u001b[0m     \u001b[38;5;28;01melse\u001b[39;00m:\n",
      "\u001b[1;31mKeyboardInterrupt\u001b[0m: "
     ]
    }
   ],
   "source": [
    "t = time()\n",
    "\n",
    "w2v_model.train(sentences, total_examples=w2v_model.corpus_count, epochs=30, report_delay=1)\n",
    "\n",
    "print('Time to train the model: {} mins'.format(round((time() - t) / 60, 2)))"
   ]
  },
  {
   "cell_type": "code",
   "execution_count": 37,
   "id": "8da16ad4",
   "metadata": {},
   "outputs": [],
   "source": [
    "w2v_model.save('word2vec.model') # DbMf3Php"
   ]
  },
  {
   "cell_type": "code",
   "execution_count": 38,
   "id": "09047a80",
   "metadata": {},
   "outputs": [
    {
     "data": {
      "text/plain": [
       "[('great', 0.6633161902427673),\n",
       " ('entertainer', 0.6190119385719299),\n",
       " ('well', 0.5988542437553406),\n",
       " ('awesome', 0.5863618850708008),\n",
       " ('passionate', 0.5720544457435608),\n",
       " ('dedicated', 0.5699253082275391),\n",
       " ('selflessness', 0.5664835572242737),\n",
       " ('motivational', 0.5648596286773682),\n",
       " ('motivate', 0.5638036727905273),\n",
       " ('put_effort', 0.5619373321533203)]"
      ]
     },
     "execution_count": 38,
     "metadata": {},
     "output_type": "execute_result"
    }
   ],
   "source": [
    "w2v_model.wv.most_similar(positive=[\"good\"])"
   ]
  },
  {
   "cell_type": "code",
   "execution_count": 39,
   "id": "67c1ac03",
   "metadata": {},
   "outputs": [
    {
     "data": {
      "text/plain": [
       "[('exaggeration', 0.657414436340332),\n",
       " ('appropriate', 0.6447244882583618),\n",
       " ('recke', 0.6348669528961182),\n",
       " ('grammar', 0.626691997051239),\n",
       " ('gotten', 0.6251201629638672),\n",
       " ('childish', 0.6237300634384155),\n",
       " (\"y'know\", 0.6235143542289734),\n",
       " ('repetitive', 0.6234145760536194),\n",
       " ('frustrate', 0.6215988397598267),\n",
       " ('clostrophobic', 0.6203850507736206)]"
      ]
     },
     "execution_count": 39,
     "metadata": {},
     "output_type": "execute_result"
    }
   ],
   "source": [
    "w2v_model.wv.most_similar(positive=[\"bad\"])"
   ]
  },
  {
   "cell_type": "code",
   "execution_count": 40,
   "id": "2e02a62c",
   "metadata": {},
   "outputs": [
    {
     "data": {
      "text/plain": [
       "[('kida', 0.6299033761024475),\n",
       " ('okok', 0.608138918876648),\n",
       " ('uhmmm', 0.6064192056655884),\n",
       " ('umm', 0.6038805246353149),\n",
       " ('sweetie', 0.6005862951278687),\n",
       " ('thousend', 0.5997239947319031),\n",
       " ('nothing', 0.5983384847640991),\n",
       " ('undertak', 0.5935590267181396),\n",
       " ('ummm', 0.5920311808586121),\n",
       " ('rq', 0.5909878015518188)]"
      ]
     },
     "execution_count": 40,
     "metadata": {},
     "output_type": "execute_result"
    }
   ],
   "source": [
    "w2v_model.wv.most_similar(positive=[\"ok\"])"
   ]
  },
  {
   "cell_type": "code",
   "execution_count": 52,
   "id": "ab2c9e95",
   "metadata": {},
   "outputs": [
    {
     "data": {
      "text/plain": [
       "0.38743377"
      ]
     },
     "execution_count": 52,
     "metadata": {},
     "output_type": "execute_result"
    }
   ],
   "source": [
    "w2v_model.wv.similarity('good', 'mr_beast')"
   ]
  },
  {
   "cell_type": "code",
   "execution_count": 53,
   "id": "78b3a3d1",
   "metadata": {},
   "outputs": [
    {
     "data": {
      "text/plain": [
       "0.19031991"
      ]
     },
     "execution_count": 53,
     "metadata": {},
     "output_type": "execute_result"
    }
   ],
   "source": [
    "w2v_model.wv.similarity('bad', 'mr_beast')"
   ]
  },
  {
   "cell_type": "code",
   "execution_count": 50,
   "id": "215ca307",
   "metadata": {},
   "outputs": [],
   "source": [
    "import nltk \n",
    "from nltk.corpus import stopwords\n",
    "from nltk.stem.porter import PorterStemmer\n",
    "from nltk.corpus import wordnet\n",
    "from nltk.sentiment.vader import SentimentIntensityAnalyzer\n",
    "import string\n",
    "from nltk import pos_tag\n",
    "from nltk.corpus import stopwords\n",
    "from nltk.tokenize import WhitespaceTokenizer\n",
    "from nltk.stem import WordNetLemmatizer"
   ]
  },
  {
   "cell_type": "code",
   "execution_count": 47,
   "id": "1df740fe",
   "metadata": {},
   "outputs": [],
   "source": [
    "data[\"Comment\"] = data[\"Comment\"].astype(str)"
   ]
  },
  {
   "cell_type": "code",
   "execution_count": 48,
   "id": "e47ba939",
   "metadata": {},
   "outputs": [],
   "source": [
    "def get_wordnet_pos(pos_tag):\n",
    "    if pos_tag.startswith('J'):\n",
    "        return wordnet.ADJ\n",
    "    elif pos_tag.startswith('V'):\n",
    "        return wordnet.VERB\n",
    "    elif pos_tag.startswith('N'):\n",
    "        return wordnet.NOUN\n",
    "    elif pos_tag.startswith('R'):\n",
    "        return wordnet.ADV\n",
    "    else:\n",
    "        return wordnet.NOUN\n",
    "\n",
    "def clean_text(text):\n",
    "    # lower text\n",
    "    text = text.lower()\n",
    "    # tokenize text and remove puncutation\n",
    "    text = [word.strip(string.punctuation) for word in text.split(\" \")]\n",
    "    # remove words that contain numbers\n",
    "    text = [word for word in text if not any(c.isdigit() for c in word)]\n",
    "    # remove stop words\n",
    "    stop = stopwords.words('english')\n",
    "    text = [x for x in text if x not in stop]\n",
    "    # remove empty tokens\n",
    "    text = [t for t in text if len(t) > 0]\n",
    "    # pos tag text\n",
    "    pos_tags = pos_tag(text)\n",
    "    # lemmatize text\n",
    "    text = [WordNetLemmatizer().lemmatize(t[0], get_wordnet_pos(t[1])) for t in pos_tags]\n",
    "    # remove words with only one letter\n",
    "    text = [t for t in text if len(t) > 1]\n",
    "    # join all\n",
    "    text = \" \".join(text)\n",
    "    return(text)"
   ]
  },
  {
   "cell_type": "code",
   "execution_count": 51,
   "id": "8dc11a9c",
   "metadata": {},
   "outputs": [
    {
     "name": "stderr",
     "output_type": "stream",
     "text": [
      "[nltk_data] Downloading package stopwords to\n",
      "[nltk_data]     C:\\Users\\Eashan\\AppData\\Roaming\\nltk_data...\n",
      "[nltk_data]   Unzipping corpora\\stopwords.zip.\n",
      "[nltk_data] Downloading package averaged_perceptron_tagger to\n",
      "[nltk_data]     C:\\Users\\Eashan\\AppData\\Roaming\\nltk_data...\n",
      "[nltk_data]   Unzipping taggers\\averaged_perceptron_tagger.zip.\n",
      "[nltk_data] Downloading package wordnet to\n",
      "[nltk_data]     C:\\Users\\Eashan\\AppData\\Roaming\\nltk_data...\n",
      "[nltk_data]   Unzipping corpora\\wordnet.zip.\n",
      "[nltk_data] Downloading package vader_lexicon to\n",
      "[nltk_data]     C:\\Users\\Eashan\\AppData\\Roaming\\nltk_data...\n",
      "[nltk_data] Downloading package omw-1.4 to\n",
      "[nltk_data]     C:\\Users\\Eashan\\AppData\\Roaming\\nltk_data...\n",
      "[nltk_data]   Unzipping corpora\\omw-1.4.zip.\n"
     ]
    },
    {
     "data": {
      "text/plain": [
       "True"
      ]
     },
     "execution_count": 51,
     "metadata": {},
     "output_type": "execute_result"
    }
   ],
   "source": [
    "nltk.download('stopwords')\n",
    "nltk.download('averaged_perceptron_tagger')\n",
    "nltk.download('wordnet')\n",
    "nltk.download('vader_lexicon')\n",
    "nltk.download('omw-1.4')"
   ]
  },
  {
   "cell_type": "code",
   "execution_count": 53,
   "id": "96688a45",
   "metadata": {},
   "outputs": [],
   "source": [
    "data[\"Comment\"] = data[\"Comment\"].apply(lambda x: clean_text(x))"
   ]
  },
  {
   "cell_type": "code",
   "execution_count": 55,
   "id": "5fabb04f",
   "metadata": {},
   "outputs": [],
   "source": [
    "sent = [row.split() for row in data['Comment']]"
   ]
  },
  {
   "cell_type": "code",
   "execution_count": 56,
   "id": "cb5e4165",
   "metadata": {},
   "outputs": [],
   "source": [
    "phrases = Phrases(sent, min_count=30, progress_per=10000)"
   ]
  },
  {
   "cell_type": "code",
   "execution_count": 57,
   "id": "dfae313d",
   "metadata": {},
   "outputs": [],
   "source": [
    "bigram = Phraser(phrases)"
   ]
  },
  {
   "cell_type": "code",
   "execution_count": 58,
   "id": "3e908361",
   "metadata": {},
   "outputs": [],
   "source": [
    "sentences = bigram[sent]"
   ]
  },
  {
   "cell_type": "code",
   "execution_count": 59,
   "id": "f797823a",
   "metadata": {},
   "outputs": [],
   "source": [
    "w2v_model = Word2Vec(min_count=3,\n",
    "                     window=4,\n",
    "                     vector_size=300,\n",
    "                     sample=1e-5, \n",
    "                     alpha=0.03, \n",
    "                     min_alpha=0.0007, \n",
    "                     negative=20,\n",
    "                     workers=multiprocessing.cpu_count()-1)"
   ]
  },
  {
   "cell_type": "code",
   "execution_count": 60,
   "id": "19dd00ea",
   "metadata": {},
   "outputs": [
    {
     "name": "stdout",
     "output_type": "stream",
     "text": [
      "Time to build vocab: 0.1 mins\n"
     ]
    }
   ],
   "source": [
    "t = time()\n",
    "\n",
    "w2v_model.build_vocab(sentences, progress_per=10000)\n",
    "\n",
    "print('Time to build vocab: {} mins'.format(round((time() - t) / 60, 2)))"
   ]
  },
  {
   "cell_type": "code",
   "execution_count": 61,
   "id": "74f43fe4",
   "metadata": {},
   "outputs": [
    {
     "name": "stdout",
     "output_type": "stream",
     "text": [
      "Time to train the model: 4.51 mins\n"
     ]
    }
   ],
   "source": [
    "t = time()\n",
    "\n",
    "w2v_model.train(sentences, total_examples=w2v_model.corpus_count, epochs=30, report_delay=1)\n",
    "\n",
    "print('Time to train the model: {} mins'.format(round((time() - t) / 60, 2)))"
   ]
  },
  {
   "cell_type": "code",
   "execution_count": 63,
   "id": "bd9223f7",
   "metadata": {},
   "outputs": [],
   "source": [
    "model = KMeans(n_clusters=3, max_iter=1000, random_state=True, n_init=50).fit(X=w2v_model.wv.vectors)"
   ]
  },
  {
   "cell_type": "code",
   "execution_count": 65,
   "id": "c511589b",
   "metadata": {},
   "outputs": [],
   "source": [
    "score = silhouette_score(w2v_model.wv.vectors, model.labels_, metric='euclidean')"
   ]
  },
  {
   "cell_type": "code",
   "execution_count": 67,
   "id": "e98e2d2d",
   "metadata": {},
   "outputs": [
    {
     "data": {
      "text/plain": [
       "0.23206197"
      ]
     },
     "execution_count": 67,
     "metadata": {},
     "output_type": "execute_result"
    }
   ],
   "source": [
    "score"
   ]
  },
  {
   "cell_type": "code",
   "execution_count": 66,
   "id": "76f724f3",
   "metadata": {},
   "outputs": [
    {
     "data": {
      "image/png": "[encoded data removed]",
      "text/plain": [
       "<Figure size 432x288 with 1 Axes>"
      ]
     },
     "metadata": {
      "needs_background": "light"
     },
     "output_type": "display_data"
    },
    {
     "data": {
      "text/plain": [
       "<AxesSubplot:title={'center':'Silhouette Plot of KMeans Clustering for 51323 Samples in 3 Centers'}, xlabel='silhouette coefficient values', ylabel='cluster label'>"
      ]
     },
     "execution_count": 66,
     "metadata": {},
     "output_type": "execute_result"
    }
   ],
   "source": [
    "kmeans = KMeans(n_clusters=3, max_iter=10000, random_state=True, init='k-means++')\n",
    "visualizer = SilhouetteVisualizer(kmeans, colors='yellowbrick')\n",
    "\n",
    "visualizer.fit(w2v_model.wv.vectors)\n",
    "visualizer.show()"
   ]
  },
  {
   "cell_type": "markdown",
   "id": "4fbf5f39",
   "metadata": {},
   "source": [
    "### Method 3"
   ]
  },
  {
   "cell_type": "code",
   "execution_count": 108,
   "id": "d9ef6ffa",
   "metadata": {},
   "outputs": [],
   "source": [
    "data = combine_all()"
   ]
  },
  {
   "cell_type": "code",
   "execution_count": 109,
   "id": "5c937fa4",
   "metadata": {},
   "outputs": [],
   "source": [
    "data = data[['Name', 'Comment']]"
   ]
  },
  {
   "cell_type": "code",
   "execution_count": 110,
   "id": "88b28ed6",
   "metadata": {},
   "outputs": [],
   "source": [
    "data = data.dropna()"
   ]
  },
  {
   "cell_type": "code",
   "execution_count": 111,
   "id": "01f2bff7",
   "metadata": {},
   "outputs": [
    {
     "data": {
      "text/plain": [
       "Name       0\n",
       "Comment    0\n",
       "dtype: int64"
      ]
     },
     "execution_count": 111,
     "metadata": {},
     "output_type": "execute_result"
    }
   ],
   "source": [
    "data.isnull().sum()"
   ]
  },
  {
   "cell_type": "code",
   "execution_count": 112,
   "id": "ad5340c2",
   "metadata": {},
   "outputs": [],
   "source": [
    "comments = data.Comment.apply(gensim.utils.simple_preprocess)"
   ]
  },
  {
   "cell_type": "code",
   "execution_count": 140,
   "id": "040c4d7d",
   "metadata": {},
   "outputs": [
    {
     "name": "stdout",
     "output_type": "stream",
     "text": [
      "<class 'pandas.core.frame.DataFrame'>\n",
      "Int64Index: 1350819 entries, 0 to 70956\n",
      "Data columns (total 2 columns):\n",
      " #   Column   Non-Null Count    Dtype \n",
      "---  ------   --------------    ----- \n",
      " 0   Name     1350819 non-null  object\n",
      " 1   Comment  1350819 non-null  object\n",
      "dtypes: object(2)\n",
      "memory usage: 30.9+ MB\n"
     ]
    }
   ],
   "source": [
    "data.info()"
   ]
  },
  {
   "cell_type": "code",
   "execution_count": 139,
   "id": "2758e12c",
   "metadata": {},
   "outputs": [
    {
     "data": {
      "text/plain": [
       "1350819"
      ]
     },
     "execution_count": 139,
     "metadata": {},
     "output_type": "execute_result"
    }
   ],
   "source": [
    "len(comments)"
   ]
  },
  {
   "cell_type": "code",
   "execution_count": 133,
   "id": "83592964",
   "metadata": {},
   "outputs": [],
   "source": [
    "w2v_model = Word2Vec(min_count=0,\n",
    "                     window=10,\n",
    "                     workers=multiprocessing.cpu_count()-1)"
   ]
  },
  {
   "cell_type": "code",
   "execution_count": 134,
   "id": "4dfc68f0",
   "metadata": {},
   "outputs": [],
   "source": [
    "w2v_model.build_vocab(comments, progress_per=10000)"
   ]
  },
  {
   "cell_type": "code",
   "execution_count": 135,
   "id": "550eb067",
   "metadata": {},
   "outputs": [
    {
     "data": {
      "text/plain": [
       "(206606275, 256329330)"
      ]
     },
     "execution_count": 135,
     "metadata": {},
     "output_type": "execute_result"
    }
   ],
   "source": [
    "w2v_model.train(comments, total_examples=w2v_model.corpus_count, epochs=30, report_delay=1)"
   ]
  },
  {
   "cell_type": "code",
   "execution_count": 136,
   "id": "911ecbab",
   "metadata": {},
   "outputs": [
    {
     "data": {
      "text/plain": [
       "172068"
      ]
     },
     "execution_count": 136,
     "metadata": {},
     "output_type": "execute_result"
    }
   ],
   "source": [
    "len(w2v_model.wv.vectors)"
   ]
  },
  {
   "cell_type": "code",
   "execution_count": 137,
   "id": "cedded6d",
   "metadata": {},
   "outputs": [
    {
     "data": {
      "text/plain": [
       "0.70732135"
      ]
     },
     "execution_count": 137,
     "metadata": {},
     "output_type": "execute_result"
    }
   ],
   "source": [
    "model = KMeans(n_clusters=3, max_iter=1000, random_state=True, n_init=50).fit(X=w2v_model.wv.vectors)\n",
    "score = silhouette_score(w2v_model.wv.vectors, model.labels_, metric='euclidean')\n",
    "score"
   ]
  },
  {
   "cell_type": "code",
   "execution_count": 138,
   "id": "3302c4f8",
   "metadata": {},
   "outputs": [
    {
     "data": {
      "image/png": "[encoded data removed]",
      "text/plain": [
       "<Figure size 432x288 with 1 Axes>"
      ]
     },
     "metadata": {
      "needs_background": "light"
     },
     "output_type": "display_data"
    },
    {
     "data": {
      "text/plain": [
       "<AxesSubplot:title={'center':'Silhouette Plot of KMeans Clustering for 172068 Samples in 3 Centers'}, xlabel='silhouette coefficient values', ylabel='cluster label'>"
      ]
     },
     "execution_count": 138,
     "metadata": {},
     "output_type": "execute_result"
    }
   ],
   "source": [
    "kmeans = KMeans(n_clusters=3, max_iter=1000, random_state=True, n_init=50)\n",
    "visualizer = SilhouetteVisualizer(kmeans, colors='yellowbrick')\n",
    "\n",
    "visualizer.fit(w2v_model.wv.vectors)\n",
    "visualizer.show()"
   ]
  },
  {
   "cell_type": "markdown",
   "id": "56592b2e",
   "metadata": {},
   "source": [
    "## K-Means"
   ]
  },
  {
   "cell_type": "code",
   "execution_count": 26,
   "id": "1cf8a97b",
   "metadata": {},
   "outputs": [],
   "source": [
    "word_vectors = Word2Vec.load(\"word2vec.model\").wv\n",
    "model = KMeans(n_clusters=3, max_iter=1000, random_state=True, n_init=50).fit(X=word_vectors.vectors)"
   ]
  },
  {
   "cell_type": "code",
   "execution_count": 27,
   "id": "e9bd16e0",
   "metadata": {},
   "outputs": [
    {
     "data": {
      "text/plain": [
       "[('manicure', 0.9759057760238647),\n",
       " ('judo', 0.9757534861564636),\n",
       " ('platinum', 0.9704717993736267),\n",
       " ('barbara', 0.9704495072364807),\n",
       " ('capricorn', 0.9700502753257751),\n",
       " ('butane', 0.9699249863624573),\n",
       " ('pansy', 0.9697097539901733),\n",
       " ('dugout', 0.968982458114624),\n",
       " ('authorization', 0.9687457084655762),\n",
       " ('bawdy', 0.9683710932731628),\n",
       " ('stepmother', 0.9682340621948242),\n",
       " ('veterinarian', 0.9680881500244141),\n",
       " ('pendulum', 0.9679637551307678),\n",
       " ('sweatshop', 0.9679598212242126),\n",
       " ('seeder', 0.9679090976715088),\n",
       " ('aluminum', 0.9674091339111328),\n",
       " ('afterthought', 0.9672328233718872),\n",
       " ('universally', 0.9671775698661804),\n",
       " ('cauliflower', 0.9670944809913635),\n",
       " ('anteater', 0.9667944312095642),\n",
       " ('zoology', 0.9662699103355408),\n",
       " ('gondola', 0.9660769104957581),\n",
       " ('pail', 0.9660439491271973),\n",
       " ('semicircle', 0.9658192992210388),\n",
       " ('liquor', 0.9656803011894226),\n",
       " ('latex', 0.965549111366272),\n",
       " ('wholesaler', 0.9654927253723145),\n",
       " ('bookcase', 0.9654483795166016),\n",
       " ('vacuous', 0.96532142162323),\n",
       " ('manx', 0.9650975465774536)]"
      ]
     },
     "execution_count": 27,
     "metadata": {},
     "output_type": "execute_result"
    }
   ],
   "source": [
    "word_vectors.similar_by_vector(model.cluster_centers_[0], topn=30, restrict_vocab=None)"
   ]
  },
  {
   "cell_type": "code",
   "execution_count": 28,
   "id": "fae9b8c2",
   "metadata": {},
   "outputs": [
    {
     "data": {
      "text/plain": [
       "[('finally_finally', 0.9941205382347107),\n",
       " ('great_fan', 0.9922812581062317),\n",
       " ('wiuld', 0.9880257844924927),\n",
       " ('community_guidrline', 0.9867371916770935),\n",
       " ('brawlhalla', 0.9862463474273682),\n",
       " ('ooooooooooooooooooooooooooooooooooooooooooo', 0.985901415348053),\n",
       " ('finally_season', 0.9858812689781189),\n",
       " ('winnnnnn', 0.9857476353645325),\n",
       " ('respectful_follow', 0.9855976104736328),\n",
       " ('yeeeeeehaaaaaa_yeeeeeehaaaaaa', 0.9854317903518677),\n",
       " ('remember_comment', 0.9854029417037964),\n",
       " ('miss_rage', 0.9853699803352356),\n",
       " ('community_guideline', 0.9851595163345337),\n",
       " ('contester', 0.9849253296852112),\n",
       " ('audio_track', 0.9849120378494263),\n",
       " ('rage_miss', 0.9848461151123047),\n",
       " ('donedone_donedone', 0.9847877621650696),\n",
       " ('ooooooooooooooooooooooooooooooooo', 0.984665036201477),\n",
       " ('bagger', 0.9844430088996887),\n",
       " ('quartine', 0.9843831658363342)]"
      ]
     },
     "execution_count": 28,
     "metadata": {},
     "output_type": "execute_result"
    }
   ],
   "source": [
    "word_vectors.similar_by_vector(model.cluster_centers_[1], topn=20, restrict_vocab=None)"
   ]
  },
  {
   "cell_type": "code",
   "execution_count": 29,
   "id": "32dbb9ed",
   "metadata": {},
   "outputs": [
    {
     "data": {
      "text/plain": [
       "[('gusgri', 0.9805708527565002),\n",
       " ('falte', 0.9801424145698547),\n",
       " ('bkn', 0.9768860340118408),\n",
       " ('eta', 0.974585771560669),\n",
       " ('claramente', 0.9742158651351929),\n",
       " ('raza', 0.9724372029304504),\n",
       " ('volv', 0.9722635746002197),\n",
       " ('decepcion', 0.9721284508705139),\n",
       " ('otbeqivdfbxurwbv', 0.9716756343841553),\n",
       " ('huebdchuqdbnvdcjhbrebhvusdvhjdjsfvbdfjbjjdhbvdjshbvurebvubudbvdsuvbdsuvyr',\n",
       "  0.9715401530265808),\n",
       " ('llevan', 0.9712055325508118),\n",
       " ('chucha', 0.9708118438720703),\n",
       " ('perdio', 0.9707823991775513),\n",
       " ('fecha', 0.9701526761054993),\n",
       " ('llamaron', 0.9700786471366882),\n",
       " ('perfecci', 0.9699659943580627),\n",
       " ('berga', 0.9699473977088928),\n",
       " ('ayudara', 0.9697561264038086),\n",
       " ('delos', 0.9697321653366089),\n",
       " ('ndola', 0.9694566130638123)]"
      ]
     },
     "execution_count": 29,
     "metadata": {},
     "output_type": "execute_result"
    }
   ],
   "source": [
    "word_vectors.similar_by_vector(model.cluster_centers_[2], topn=20, restrict_vocab=None)"
   ]
  },
  {
   "cell_type": "code",
   "execution_count": 34,
   "id": "f6b97c45",
   "metadata": {},
   "outputs": [
    {
     "data": {
      "text/plain": [
       "array([1, 1, 1, ..., 1, 1, 1])"
      ]
     },
     "execution_count": 34,
     "metadata": {},
     "output_type": "execute_result"
    }
   ],
   "source": [
    "model.labels_"
   ]
  },
  {
   "cell_type": "code",
   "execution_count": 35,
   "id": "746c4b04",
   "metadata": {},
   "outputs": [
    {
     "data": {
      "text/html": [
       "<div>\n",
       "<style scoped>\n",
       "    .dataframe tbody tr th:only-of-type {\n",
       "        vertical-align: middle;\n",
       "    }\n",
       "\n",
       "    .dataframe tbody tr th {\n",
       "        vertical-align: top;\n",
       "    }\n",
       "\n",
       "    .dataframe thead th {\n",
       "        text-align: right;\n",
       "    }\n",
       "</style>\n",
       "<table border=\"1\" class=\"dataframe\">\n",
       "  <thead>\n",
       "    <tr style=\"text-align: right;\">\n",
       "      <th></th>\n",
       "      <th>Name</th>\n",
       "      <th>Comment</th>\n",
       "    </tr>\n",
       "  </thead>\n",
       "  <tbody>\n",
       "    <tr>\n",
       "      <th>0</th>\n",
       "      <td>MrBeast</td>\n",
       "      <td>Like I said in the video, subscribe if you hav...</td>\n",
       "    </tr>\n",
       "    <tr>\n",
       "      <th>1</th>\n",
       "      <td>Natanael De La Torre</td>\n",
       "      <td>IRL:squid game already IRL</td>\n",
       "    </tr>\n",
       "    <tr>\n",
       "      <th>2</th>\n",
       "      <td>Rexx2Byte</td>\n",
       "      <td>4:39 EYYYYYYY WASSUP NIGHT FOX</td>\n",
       "    </tr>\n",
       "    <tr>\n",
       "      <th>3</th>\n",
       "      <td>HK KING868</td>\n",
       "      <td>After reject Netflix</td>\n",
       "    </tr>\n",
       "    <tr>\n",
       "      <th>4</th>\n",
       "      <td>Dragon Walker</td>\n",
       "      <td>some people just made the marbles game so conf...</td>\n",
       "    </tr>\n",
       "    <tr>\n",
       "      <th>...</th>\n",
       "      <td>...</td>\n",
       "      <td>...</td>\n",
       "    </tr>\n",
       "    <tr>\n",
       "      <th>70952</th>\n",
       "      <td>Max Ladue</td>\n",
       "      <td>first</td>\n",
       "    </tr>\n",
       "    <tr>\n",
       "      <th>70953</th>\n",
       "      <td>Midwest Music</td>\n",
       "      <td>first</td>\n",
       "    </tr>\n",
       "    <tr>\n",
       "      <th>70954</th>\n",
       "      <td>Cagden R</td>\n",
       "      <td>Hi</td>\n",
       "    </tr>\n",
       "    <tr>\n",
       "      <th>70955</th>\n",
       "      <td>iggydabest</td>\n",
       "      <td>I have nothing to say but: *spongbob my boy*</td>\n",
       "    </tr>\n",
       "    <tr>\n",
       "      <th>70956</th>\n",
       "      <td>AidenHotLava</td>\n",
       "      <td>hi</td>\n",
       "    </tr>\n",
       "  </tbody>\n",
       "</table>\n",
       "<p>1351212 rows × 2 columns</p>\n",
       "</div>"
      ],
      "text/plain": [
       "                       Name                                            Comment\n",
       "0                   MrBeast  Like I said in the video, subscribe if you hav...\n",
       "1      Natanael De La Torre                         IRL:squid game already IRL\n",
       "2                 Rexx2Byte                     4:39 EYYYYYYY WASSUP NIGHT FOX\n",
       "3                HK KING868                               After reject Netflix\n",
       "4             Dragon Walker  some people just made the marbles game so conf...\n",
       "...                     ...                                                ...\n",
       "70952             Max Ladue                                              first\n",
       "70953         Midwest Music                                              first\n",
       "70954              Cagden R                                                 Hi\n",
       "70955            iggydabest       I have nothing to say but: *spongbob my boy*\n",
       "70956          AidenHotLava                                                 hi\n",
       "\n",
       "[1351212 rows x 2 columns]"
      ]
     },
     "execution_count": 35,
     "metadata": {},
     "output_type": "execute_result"
    }
   ],
   "source": [
    "df"
   ]
  },
  {
   "cell_type": "markdown",
   "id": "396e8913",
   "metadata": {},
   "source": [
    "## Silhouette Score"
   ]
  },
  {
   "cell_type": "code",
   "execution_count": 30,
   "id": "cc58ee17",
   "metadata": {},
   "outputs": [],
   "source": [
    "score = silhouette_score(word_vectors.vectors, model.labels_, metric='euclidean')"
   ]
  },
  {
   "cell_type": "code",
   "execution_count": 31,
   "id": "450a889f",
   "metadata": {},
   "outputs": [
    {
     "data": {
      "text/plain": [
       "0.25539023"
      ]
     },
     "execution_count": 31,
     "metadata": {},
     "output_type": "execute_result"
    }
   ],
   "source": [
    "score"
   ]
  },
  {
   "cell_type": "code",
   "execution_count": 32,
   "id": "97f908b1",
   "metadata": {},
   "outputs": [],
   "source": [
    "kmeans = KMeans(n_clusters=3, max_iter=10000, random_state=True, init='k-means++')"
   ]
  },
  {
   "cell_type": "code",
   "execution_count": 33,
   "id": "4caf4457",
   "metadata": {},
   "outputs": [
    {
     "data": {
      "image/png": "[encoded data removed]",
      "text/plain": [
       "<Figure size 432x288 with 1 Axes>"
      ]
     },
     "metadata": {
      "needs_background": "light"
     },
     "output_type": "display_data"
    },
    {
     "data": {
      "text/plain": [
       "<AxesSubplot:title={'center':'Silhouette Plot of KMeans Clustering for 30321 Samples in 3 Centers'}, xlabel='silhouette coefficient values', ylabel='cluster label'>"
      ]
     },
     "execution_count": 33,
     "metadata": {},
     "output_type": "execute_result"
    }
   ],
   "source": [
    "visualizer = SilhouetteVisualizer(kmeans, colors='yellowbrick')\n",
    "\n",
    "visualizer.fit(word_vectors.vectors)\n",
    "visualizer.show()"
   ]
  }
 ],
 "metadata": {
  "kernelspec": {
   "display_name": "Python 3 (ipykernel)",
   "language": "python",
   "name": "python3"
  },
  "language_info": {
   "codemirror_mode": {
    "name": "ipython",
    "version": 3
   },
   "file_extension": ".py",
   "mimetype": "text/x-python",
   "name": "python",
   "nbconvert_exporter": "python",
   "pygments_lexer": "ipython3",
   "version": "3.9.11"
  }
 },
 "nbformat": 4,
 "nbformat_minor": 5
}
