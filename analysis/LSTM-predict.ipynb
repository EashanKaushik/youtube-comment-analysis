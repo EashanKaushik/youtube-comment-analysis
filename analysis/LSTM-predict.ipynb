{
 "cells": [
  {
   "cell_type": "markdown",
   "id": "0aa58b48",
   "metadata": {},
   "source": [
    "# Read Data"
   ]
  },
  {
   "cell_type": "code",
   "execution_count": 4,
   "id": "ff87fa62",
   "metadata": {},
   "outputs": [],
   "source": [
    "import numpy as np"
   ]
  },
  {
   "cell_type": "code",
   "execution_count": 9,
   "id": "56f7e043",
   "metadata": {},
   "outputs": [
    {
     "name": "stdout",
     "output_type": "stream",
     "text": [
      " Volume in drive C is Sairam_OS\n",
      " Volume Serial Number is B2EA-00E4\n",
      "\n",
      " Directory of C:\\Users\\Eashan\\Desktop\\youtube-comment-analysis\\analysis\\LSTM\n",
      "\n",
      "21-04-2022  21:15    <DIR>          .\n",
      "21-04-2022  21:15    <DIR>          ..\n",
      "21-04-2022  17:26       959,061,728 keras_embeddings_test.npy\n",
      "21-04-2022  17:26     3,836,229,728 keras_embeddings_train.npy\n",
      "21-04-2022  17:32               473 labelEncoder.joblib\n",
      "21-04-2022  19:37       128,164,600 model_lstm.h5\n",
      "21-04-2022  19:37        42,724,952 model_lstm_weights.h5\n",
      "21-04-2022  17:26         4,615,929 tokenizer.pickle\n",
      "21-04-2022  17:25        28,355,658 X_clean.npy\n",
      "21-04-2022  17:25         1,143,351 y_clean.npy\n",
      "21-04-2022  21:07           129,233 y_labels.npy\n",
      "21-04-2022  17:27         2,740,304 y_test_encoded.npy\n",
      "21-04-2022  17:27        10,960,784 y_train_encoded.npy\n",
      "              11 File(s)  5,014,126,740 bytes\n",
      "               2 Dir(s)  256,804,450,304 bytes free\n"
     ]
    }
   ],
   "source": [
    "!dir LSTM"
   ]
  },
  {
   "cell_type": "code",
   "execution_count": 11,
   "id": "fcdda961",
   "metadata": {},
   "outputs": [],
   "source": [
    "y_label = np.load('LSTM/y_labels.npy', allow_pickle=True)"
   ]
  },
  {
   "cell_type": "code",
   "execution_count": 16,
   "id": "9132cd02",
   "metadata": {},
   "outputs": [
    {
     "data": {
      "text/plain": [
       "array(['Positive', 'Positive', 'Neutral', ..., 'Neutral', 'Neutral',\n",
       "       'Neutral'], dtype=object)"
      ]
     },
     "execution_count": 16,
     "metadata": {},
     "output_type": "execute_result"
    }
   ],
   "source": [
    "y_label.ravel()"
   ]
  },
  {
   "cell_type": "code",
   "execution_count": 18,
   "id": "84875bad",
   "metadata": {},
   "outputs": [],
   "source": [
    "import pandas as pd\n",
    "labels = pd.DataFrame({\"Sentiment\": y_label.ravel()})"
   ]
  },
  {
   "cell_type": "code",
   "execution_count": 19,
   "id": "7b5a5e95",
   "metadata": {},
   "outputs": [],
   "source": [
    "import matplotlib.pyplot as plt\n",
    "import seaborn as sns"
   ]
  },
  {
   "cell_type": "code",
   "execution_count": 20,
   "id": "0b9d9013",
   "metadata": {},
   "outputs": [
    {
     "data": {
      "text/plain": [
       "<AxesSubplot:xlabel='Sentiment', ylabel='count'>"
      ]
     },
     "execution_count": 20,
     "metadata": {},
     "output_type": "execute_result"
    },
    {
     "data": {
      "image/png": "[encoded data removed]",
      "text/plain": [
       "<Figure size 432x288 with 1 Axes>"
      ]
     },
     "metadata": {
      "needs_background": "light"
     },
     "output_type": "display_data"
    }
   ],
   "source": [
    "sns.countplot(x='Sentiment', data=labels)"
   ]
  },
  {
   "cell_type": "code",
   "execution_count": null,
   "id": "96e79fa4",
   "metadata": {},
   "outputs": [],
   "source": []
  }
 ],
 "metadata": {
  "kernelspec": {
   "display_name": "Python 3 (ipykernel)",
   "language": "python",
   "name": "python3"
  },
  "language_info": {
   "codemirror_mode": {
    "name": "ipython",
    "version": 3
   },
   "file_extension": ".py",
   "mimetype": "text/x-python",
   "name": "python",
   "nbconvert_exporter": "python",
   "pygments_lexer": "ipython3",
   "version": "3.9.11"
  }
 },
 "nbformat": 4,
 "nbformat_minor": 5
}
