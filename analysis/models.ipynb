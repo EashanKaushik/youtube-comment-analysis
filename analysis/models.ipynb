{
 "cells": [
  {
   "cell_type": "markdown",
   "metadata": {
    "id": "jERKe5UeIeWy"
   },
   "source": [
    "# Import Libraries"
   ]
  },
  {
   "cell_type": "code",
   "execution_count": 1,
   "metadata": {
    "colab": {
     "base_uri": "https://localhost:8080/"
    },
    "executionInfo": {
     "elapsed": 1306,
     "status": "ok",
     "timestamp": 1650675638850,
     "user": {
      "displayName": "Eashan Kaushik",
      "userId": "04664395882350784972"
     },
     "user_tz": 240
    },
    "id": "c4NxZn-nHcbA",
    "outputId": "a63911e5-d11f-4938-aa44-2e8ad4f9abc9"
   },
   "outputs": [
    {
     "name": "stdout",
     "output_type": "stream",
     "text": [
      "Drive already mounted at /content/drive; to attempt to forcibly remount, call drive.mount(\"/content/drive\", force_remount=True).\n"
     ]
    }
   ],
   "source": [
    "from google.colab import drive\n",
    "drive.mount('/content/drive')"
   ]
  },
  {
   "cell_type": "code",
   "execution_count": 3,
   "metadata": {
    "executionInfo": {
     "elapsed": 1522,
     "status": "ok",
     "timestamp": 1650675651834,
     "user": {
      "displayName": "Eashan Kaushik",
      "userId": "04664395882350784972"
     },
     "user_tz": 240
    },
    "id": "wI6lb46kIhmi"
   },
   "outputs": [],
   "source": [
    "import numpy as np\n",
    "import joblib\n",
    "\n",
    "from sklearn import preprocessing\n",
    "from sklearn.metrics import accuracy_score\n",
    "\n",
    "from sklearn.decomposition import PCA\n",
    "\n",
    "from sklearn import svm\n",
    "from sklearn.ensemble import RandomForestClassifier\n",
    "from sklearn.linear_model import LogisticRegression\n",
    "from sklearn.naive_bayes import GaussianNB,BernoulliNB\n",
    "\n",
    "import pickle"
   ]
  },
  {
   "cell_type": "markdown",
   "metadata": {
    "id": "85bJRq7AIsRo"
   },
   "source": [
    "# Read Embeddings"
   ]
  },
  {
   "cell_type": "code",
   "execution_count": 4,
   "metadata": {
    "executionInfo": {
     "elapsed": 39541,
     "status": "ok",
     "timestamp": 1650675691373,
     "user": {
      "displayName": "Eashan Kaushik",
      "userId": "04664395882350784972"
     },
     "user_tz": 240
    },
    "id": "2ZR-pcukIlq4"
   },
   "outputs": [],
   "source": [
    "X_train_tokens = np.load('/content/drive/My Drive/youtube-comment-analysis/GBF/keras_embeddings_train.npy', allow_pickle=True)\n",
    "y_train_encoded = np.load('/content/drive/My Drive/youtube-comment-analysis/GBF/y_train_encoded.npy', allow_pickle=True)\n",
    "X_test_tokens = np.load('/content/drive/My Drive/youtube-comment-analysis/GBF/keras_embeddings_test.npy', allow_pickle=True)\n",
    "y_test_encoded = np.load('/content/drive/My Drive/youtube-comment-analysis/GBF/y_test_encoded.npy', allow_pickle=True)"
   ]
  },
  {
   "cell_type": "code",
   "execution_count": 5,
   "metadata": {
    "executionInfo": {
     "elapsed": 8,
     "status": "ok",
     "timestamp": 1650675691373,
     "user": {
      "displayName": "Eashan Kaushik",
      "userId": "04664395882350784972"
     },
     "user_tz": 240
    },
    "id": "GNVRja86IwFk"
   },
   "outputs": [],
   "source": [
    "encoder=joblib.load('/content/drive/My Drive/youtube-comment-analysis/GBF/labelEncoder.joblib')"
   ]
  },
  {
   "cell_type": "markdown",
   "metadata": {
    "id": "C_zwWxhsI3af"
   },
   "source": [
    "# Label Encoding"
   ]
  },
  {
   "cell_type": "code",
   "execution_count": 6,
   "metadata": {
    "executionInfo": {
     "elapsed": 7,
     "status": "ok",
     "timestamp": 1650675691373,
     "user": {
      "displayName": "Eashan Kaushik",
      "userId": "04664395882350784972"
     },
     "user_tz": 240
    },
    "id": "wfbX1KqQI7J-"
   },
   "outputs": [],
   "source": [
    "y_train = encoder.inverse_transform(y_train_encoded)\n",
    "y_test = encoder.inverse_transform(y_test_encoded)"
   ]
  },
  {
   "cell_type": "code",
   "execution_count": 7,
   "metadata": {
    "executionInfo": {
     "elapsed": 247,
     "status": "ok",
     "timestamp": 1650675691613,
     "user": {
      "displayName": "Eashan Kaushik",
      "userId": "04664395882350784972"
     },
     "user_tz": 240
    },
    "id": "k2Q7yUjsFvMl"
   },
   "outputs": [],
   "source": [
    "le = preprocessing.LabelEncoder()\n",
    "y_train = le.fit_transform(y_train.ravel())\n",
    "y_test = le.transform(y_test.ravel())"
   ]
  },
  {
   "cell_type": "markdown",
   "metadata": {
    "id": "aBmBq8lKI6Nz"
   },
   "source": [
    "# Principal Component Analysis (PCA)"
   ]
  },
  {
   "cell_type": "code",
   "execution_count": 8,
   "metadata": {
    "colab": {
     "base_uri": "https://localhost:8080/"
    },
    "executionInfo": {
     "elapsed": 107104,
     "status": "ok",
     "timestamp": 1650675798716,
     "user": {
      "displayName": "Eashan Kaushik",
      "userId": "04664395882350784972"
     },
     "user_tz": 240
    },
    "id": "k-j6x-8mGoBa",
    "outputId": "adcf91af-73f7-47aa-d23e-23671cda5ac7"
   },
   "outputs": [
    {
     "name": "stdout",
     "output_type": "stream",
     "text": [
      "Sum of variance ratios:  0.9835621036925072\n"
     ]
    }
   ],
   "source": [
    "pca_model = PCA(n_components=50)\n",
    "pca_model.fit(X_train_tokens)\n",
    "print(\"Sum of variance ratios: \",sum(pca_model.explained_variance_ratio_))"
   ]
  },
  {
   "cell_type": "code",
   "execution_count": 9,
   "metadata": {
    "executionInfo": {
     "elapsed": 9574,
     "status": "ok",
     "timestamp": 1650675808287,
     "user": {
      "displayName": "Eashan Kaushik",
      "userId": "04664395882350784972"
     },
     "user_tz": 240
    },
    "id": "MC06bdhNG0aN"
   },
   "outputs": [],
   "source": [
    "X_train_tokens = pca_model.transform(X_train_tokens)\n",
    "X_test_tokens = pca_model.transform(X_test_tokens)"
   ]
  },
  {
   "cell_type": "markdown",
   "metadata": {
    "id": "R2lHtVSSJZRV"
   },
   "source": [
    "# Model Training"
   ]
  },
  {
   "cell_type": "markdown",
   "metadata": {
    "id": "6iv327tnJUzW"
   },
   "source": [
    "## Random Forest"
   ]
  },
  {
   "cell_type": "code",
   "execution_count": 10,
   "metadata": {
    "colab": {
     "base_uri": "https://localhost:8080/"
    },
    "executionInfo": {
     "elapsed": 706209,
     "status": "ok",
     "timestamp": 1650676514489,
     "user": {
      "displayName": "Eashan Kaushik",
      "userId": "04664395882350784972"
     },
     "user_tz": 240
    },
    "id": "tw-dzZBEJN-t",
    "outputId": "a78c491d-c94b-4687-c5c8-b388594f9995"
   },
   "outputs": [
    {
     "data": {
      "text/plain": [
       "RandomForestClassifier()"
      ]
     },
     "execution_count": 10,
     "metadata": {},
     "output_type": "execute_result"
    }
   ],
   "source": [
    "rfc = RandomForestClassifier()\n",
    "rfc.fit(X_train_tokens,y_train)"
   ]
  },
  {
   "cell_type": "code",
   "execution_count": 11,
   "metadata": {
    "executionInfo": {
     "elapsed": 5992,
     "status": "ok",
     "timestamp": 1650676520479,
     "user": {
      "displayName": "Eashan Kaushik",
      "userId": "04664395882350784972"
     },
     "user_tz": 240
    },
    "id": "rYi2piujJNzE"
   },
   "outputs": [],
   "source": [
    "y_pred_rf = rfc.predict(X_test_tokens)"
   ]
  },
  {
   "cell_type": "code",
   "execution_count": 12,
   "metadata": {
    "colab": {
     "base_uri": "https://localhost:8080/"
    },
    "executionInfo": {
     "elapsed": 9,
     "status": "ok",
     "timestamp": 1650676520480,
     "user": {
      "displayName": "Eashan Kaushik",
      "userId": "04664395882350784972"
     },
     "user_tz": 240
    },
    "id": "6EsanXOOJNj7",
    "outputId": "b9e1b724-c3ac-4f5a-e8b6-c4e5c089f004"
   },
   "outputs": [
    {
     "data": {
      "text/plain": [
       "0.6110147669346786"
      ]
     },
     "execution_count": 12,
     "metadata": {},
     "output_type": "execute_result"
    }
   ],
   "source": [
    "accuracy_score(y_test, y_pred_rf)"
   ]
  },
  {
   "cell_type": "code",
   "execution_count": 13,
   "metadata": {
    "executionInfo": {
     "elapsed": 8637,
     "status": "ok",
     "timestamp": 1650676529110,
     "user": {
      "displayName": "Eashan Kaushik",
      "userId": "04664395882350784972"
     },
     "user_tz": 240
    },
    "id": "yb_LfoyWJNdC"
   },
   "outputs": [],
   "source": [
    "filename = '/content/drive/My Drive/youtube-comment-analysis/GBF/rf.sav'\n",
    "pickle.dump(rfc, open(filename, 'wb'))"
   ]
  },
  {
   "cell_type": "markdown",
   "metadata": {
    "id": "MO1ZymLEJeBB"
   },
   "source": [
    "## Logistic Regression"
   ]
  },
  {
   "cell_type": "code",
   "execution_count": 14,
   "metadata": {
    "colab": {
     "base_uri": "https://localhost:8080/"
    },
    "executionInfo": {
     "elapsed": 28920,
     "status": "ok",
     "timestamp": 1650677287763,
     "user": {
      "displayName": "Eashan Kaushik",
      "userId": "04664395882350784972"
     },
     "user_tz": 240
    },
    "id": "fX5vG0HRJNWK",
    "outputId": "7afa3997-d880-4639-e38e-5c8edbae245b"
   },
   "outputs": [
    {
     "name": "stderr",
     "output_type": "stream",
     "text": [
      "/usr/local/lib/python3.7/dist-packages/sklearn/linear_model/_logistic.py:818: ConvergenceWarning: lbfgs failed to converge (status=1):\n",
      "STOP: TOTAL NO. of ITERATIONS REACHED LIMIT.\n",
      "\n",
      "Increase the number of iterations (max_iter) or scale the data as shown in:\n",
      "    https://scikit-learn.org/stable/modules/preprocessing.html\n",
      "Please also refer to the documentation for alternative solver options:\n",
      "    https://scikit-learn.org/stable/modules/linear_model.html#logistic-regression\n",
      "  extra_warning_msg=_LOGISTIC_SOLVER_CONVERGENCE_MSG,\n"
     ]
    },
    {
     "data": {
      "text/plain": [
       "LogisticRegression()"
      ]
     },
     "execution_count": 14,
     "metadata": {},
     "output_type": "execute_result"
    }
   ],
   "source": [
    "logreg = LogisticRegression()\n",
    "logreg.fit(X_train_tokens,y_train)"
   ]
  },
  {
   "cell_type": "code",
   "execution_count": 15,
   "metadata": {
    "executionInfo": {
     "elapsed": 6,
     "status": "ok",
     "timestamp": 1650677287763,
     "user": {
      "displayName": "Eashan Kaushik",
      "userId": "04664395882350784972"
     },
     "user_tz": 240
    },
    "id": "_NgWYwXJJNOq"
   },
   "outputs": [],
   "source": [
    "y_pred_lr = logreg.predict(X_test_tokens)"
   ]
  },
  {
   "cell_type": "code",
   "execution_count": 16,
   "metadata": {
    "colab": {
     "base_uri": "https://localhost:8080/"
    },
    "executionInfo": {
     "elapsed": 5,
     "status": "ok",
     "timestamp": 1650677287763,
     "user": {
      "displayName": "Eashan Kaushik",
      "userId": "04664395882350784972"
     },
     "user_tz": 240
    },
    "id": "oeziWV4oJM4z",
    "outputId": "1a022325-2fec-4ca7-cae8-b341064b2e10"
   },
   "outputs": [
    {
     "data": {
      "text/plain": [
       "0.41653090896351186"
      ]
     },
     "execution_count": 16,
     "metadata": {},
     "output_type": "execute_result"
    }
   ],
   "source": [
    "accuracy_score(y_test, y_pred_lr)"
   ]
  },
  {
   "cell_type": "code",
   "execution_count": 17,
   "metadata": {
    "executionInfo": {
     "elapsed": 2,
     "status": "ok",
     "timestamp": 1650677287763,
     "user": {
      "displayName": "Eashan Kaushik",
      "userId": "04664395882350784972"
     },
     "user_tz": 240
    },
    "id": "0OeNaO1eJMwa"
   },
   "outputs": [],
   "source": [
    "filename = '/content/drive/My Drive/youtube-comment-analysis/GBF/lr.sav'\n",
    "pickle.dump(logreg, open(filename, 'wb'))"
   ]
  },
  {
   "cell_type": "markdown",
   "metadata": {
    "id": "JzP6yZR3Jjgg"
   },
   "source": [
    "## Gaussian Naive Bayes"
   ]
  },
  {
   "cell_type": "code",
   "execution_count": 18,
   "metadata": {
    "colab": {
     "base_uri": "https://localhost:8080/"
    },
    "executionInfo": {
     "elapsed": 540,
     "status": "ok",
     "timestamp": 1650677288301,
     "user": {
      "displayName": "Eashan Kaushik",
      "userId": "04664395882350784972"
     },
     "user_tz": 240
    },
    "id": "FTRXWWyvJMoS",
    "outputId": "71b5da3c-c34a-441f-9bcc-b1bd160a4bce"
   },
   "outputs": [
    {
     "data": {
      "text/plain": [
       "GaussianNB()"
      ]
     },
     "execution_count": 18,
     "metadata": {},
     "output_type": "execute_result"
    }
   ],
   "source": [
    "gnb = GaussianNB()\n",
    "gnb.fit(X_train_tokens,y_train)"
   ]
  },
  {
   "cell_type": "code",
   "execution_count": 19,
   "metadata": {
    "executionInfo": {
     "elapsed": 4,
     "status": "ok",
     "timestamp": 1650677288301,
     "user": {
      "displayName": "Eashan Kaushik",
      "userId": "04664395882350784972"
     },
     "user_tz": 240
    },
    "id": "C3mxcc-JJMfd"
   },
   "outputs": [],
   "source": [
    "y_pred_gnb = gnb.predict(X_test_tokens)"
   ]
  },
  {
   "cell_type": "code",
   "execution_count": 20,
   "metadata": {
    "colab": {
     "base_uri": "https://localhost:8080/"
    },
    "executionInfo": {
     "elapsed": 4,
     "status": "ok",
     "timestamp": 1650677288302,
     "user": {
      "displayName": "Eashan Kaushik",
      "userId": "04664395882350784972"
     },
     "user_tz": 240
    },
    "id": "ZiyV-OaUJME6",
    "outputId": "e30a6007-a635-4446-98f8-047d68caabd8"
   },
   "outputs": [
    {
     "data": {
      "text/plain": [
       "0.34286264823865326"
      ]
     },
     "execution_count": 20,
     "metadata": {},
     "output_type": "execute_result"
    }
   ],
   "source": [
    "accuracy_score(y_test, y_pred_gnb)"
   ]
  },
  {
   "cell_type": "code",
   "execution_count": 21,
   "metadata": {
    "executionInfo": {
     "elapsed": 3,
     "status": "ok",
     "timestamp": 1650677288302,
     "user": {
      "displayName": "Eashan Kaushik",
      "userId": "04664395882350784972"
     },
     "user_tz": 240
    },
    "id": "Tp55glD6JL6C"
   },
   "outputs": [],
   "source": [
    "filename = '/content/drive/My Drive/youtube-comment-analysis/GBF/gnb.sav'\n",
    "pickle.dump(gnb, open(filename, 'wb'))"
   ]
  },
  {
   "cell_type": "markdown",
   "metadata": {
    "id": "cOvwDXEcJnW9"
   },
   "source": [
    "## Bernoulli Naive Bayes"
   ]
  },
  {
   "cell_type": "code",
   "execution_count": 22,
   "metadata": {
    "colab": {
     "base_uri": "https://localhost:8080/"
    },
    "executionInfo": {
     "elapsed": 710,
     "status": "ok",
     "timestamp": 1650677289009,
     "user": {
      "displayName": "Eashan Kaushik",
      "userId": "04664395882350784972"
     },
     "user_tz": 240
    },
    "id": "6X6MyNqiLZIG",
    "outputId": "940b8ef9-4ff9-4913-c000-ec36fcd17079"
   },
   "outputs": [
    {
     "data": {
      "text/plain": [
       "BernoulliNB()"
      ]
     },
     "execution_count": 22,
     "metadata": {},
     "output_type": "execute_result"
    }
   ],
   "source": [
    "bnb = BernoulliNB()\n",
    "bnb.fit(X_train_tokens,y_train)"
   ]
  },
  {
   "cell_type": "code",
   "execution_count": 23,
   "metadata": {
    "executionInfo": {
     "elapsed": 6,
     "status": "ok",
     "timestamp": 1650677289010,
     "user": {
      "displayName": "Eashan Kaushik",
      "userId": "04664395882350784972"
     },
     "user_tz": 240
    },
    "id": "rjLkd7V_Jtvz"
   },
   "outputs": [],
   "source": [
    "y_pred_bnb = bnb.predict(X_test_tokens)"
   ]
  },
  {
   "cell_type": "code",
   "execution_count": 24,
   "metadata": {
    "colab": {
     "base_uri": "https://localhost:8080/"
    },
    "executionInfo": {
     "elapsed": 6,
     "status": "ok",
     "timestamp": 1650677289010,
     "user": {
      "displayName": "Eashan Kaushik",
      "userId": "04664395882350784972"
     },
     "user_tz": 240
    },
    "id": "qe1JDTK1JtmP",
    "outputId": "368349df-aeec-42ce-e939-9bc866b918c4"
   },
   "outputs": [
    {
     "data": {
      "text/plain": [
       "0.4073869707639217"
      ]
     },
     "execution_count": 24,
     "metadata": {},
     "output_type": "execute_result"
    }
   ],
   "source": [
    "accuracy_score(y_test, y_pred_bnb)"
   ]
  },
  {
   "cell_type": "code",
   "execution_count": 25,
   "metadata": {
    "executionInfo": {
     "elapsed": 3,
     "status": "ok",
     "timestamp": 1650677289010,
     "user": {
      "displayName": "Eashan Kaushik",
      "userId": "04664395882350784972"
     },
     "user_tz": 240
    },
    "id": "uL0Jik5YJtby"
   },
   "outputs": [],
   "source": [
    "filename = '/content/drive/My Drive/youtube-comment-analysis/GBF/bnb.sav'\n",
    "pickle.dump(bnb, open(filename, 'wb'))"
   ]
  }
 ],
 "metadata": {
  "colab": {
   "authorship_tag": "ABX9TyNufQt0d94EnnmJgc76MasI",
   "collapsed_sections": [],
   "machine_shape": "hm",
   "name": "models.ipynb",
   "provenance": []
  },
  "kernelspec": {
   "display_name": "Python 3 (ipykernel)",
   "language": "python",
   "name": "python3"
  },
  "language_info": {
   "codemirror_mode": {
    "name": "ipython",
    "version": 3
   },
   "file_extension": ".py",
   "mimetype": "text/x-python",
   "name": "python",
   "nbconvert_exporter": "python",
   "pygments_lexer": "ipython3",
   "version": "3.9.11"
  }
 },
 "nbformat": 4,
 "nbformat_minor": 1
}
