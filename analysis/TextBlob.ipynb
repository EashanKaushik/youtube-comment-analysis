{
 "cells": [
  {
   "cell_type": "markdown",
   "id": "709cc948",
   "metadata": {},
   "source": [
    "# Importing Libraries"
   ]
  },
  {
   "cell_type": "code",
   "execution_count": 50,
   "id": "583ac2c8",
   "metadata": {},
   "outputs": [],
   "source": [
    "from read_data import combine_all, combine_category, read_data"
   ]
  },
  {
   "cell_type": "code",
   "execution_count": 65,
   "id": "663105c6",
   "metadata": {},
   "outputs": [],
   "source": [
    "from textblob import TextBlob\n",
    "import seaborn as sns"
   ]
  },
  {
   "cell_type": "markdown",
   "id": "ea98fc8d",
   "metadata": {},
   "source": [
    "# Scrapped Data"
   ]
  },
  {
   "cell_type": "code",
   "execution_count": 54,
   "id": "282ea360",
   "metadata": {},
   "outputs": [],
   "source": [
    "df=combine_all()"
   ]
  },
  {
   "cell_type": "code",
   "execution_count": 56,
   "id": "8516274c",
   "metadata": {},
   "outputs": [
    {
     "name": "stdout",
     "output_type": "stream",
     "text": [
      "<class 'pandas.core.frame.DataFrame'>\n",
      "Int64Index: 1101345 entries, 0 to 60532\n",
      "Data columns (total 5 columns):\n",
      " #   Column       Non-Null Count    Dtype \n",
      "---  ------       --------------    ----- \n",
      " 0   Name         1101261 non-null  object\n",
      " 1   Comment      1101078 non-null  object\n",
      " 2   Time         1101345 non-null  object\n",
      " 3   Likes        1101345 non-null  int64 \n",
      " 4   Reply Count  1101345 non-null  int64 \n",
      "dtypes: int64(2), object(3)\n",
      "memory usage: 50.4+ MB\n"
     ]
    }
   ],
   "source": [
    "df.info()"
   ]
  },
  {
   "cell_type": "markdown",
   "id": "b9e32953",
   "metadata": {},
   "source": [
    "# Data Cleaning"
   ]
  },
  {
   "cell_type": "code",
   "execution_count": 58,
   "id": "81d8cda6",
   "metadata": {},
   "outputs": [],
   "source": [
    "df[\"Comment\"]=df[\"Comment\"].astype(str)"
   ]
  },
  {
   "cell_type": "code",
   "execution_count": 60,
   "id": "a7ee1475",
   "metadata": {},
   "outputs": [],
   "source": [
    "def get_wordnet_pos(pos_tag):\n",
    "    if pos_tag.startswith('J'):\n",
    "        return wordnet.ADJ\n",
    "    elif pos_tag.startswith('V'):\n",
    "        return wordnet.VERB\n",
    "    elif pos_tag.startswith('N'):\n",
    "        return wordnet.NOUN\n",
    "    elif pos_tag.startswith('R'):\n",
    "        return wordnet.ADV\n",
    "    else:\n",
    "        return wordnet.NOUN\n",
    "\n",
    "def clean_text(text):\n",
    "    # lower text\n",
    "    text = text.lower()\n",
    "    # tokenize text and remove puncutation\n",
    "    text = [word.strip(string.punctuation) for word in text.split(\" \")]\n",
    "    # remove words that contain numbers\n",
    "    text = [word for word in text if not any(c.isdigit() for c in word)]\n",
    "    # remove stop words\n",
    "    stop = stopwords.words('english')\n",
    "    text = [x for x in text if x not in stop]\n",
    "    # remove empty tokens\n",
    "    text = [t for t in text if len(t) > 0]\n",
    "    # pos tag text\n",
    "    pos_tags = pos_tag(text)\n",
    "    # lemmatize text\n",
    "    text = [WordNetLemmatizer().lemmatize(t[0], get_wordnet_pos(t[1])) for t in pos_tags]\n",
    "    # remove words with only one letter\n",
    "    text = [t for t in text if len(t) > 1]\n",
    "    # join all\n",
    "    text = \" \".join(text)\n",
    "    return(text)"
   ]
  },
  {
   "cell_type": "markdown",
   "id": "fa5c9e5f",
   "metadata": {},
   "source": [
    "# Performing Sentiment Analysis"
   ]
  },
  {
   "cell_type": "code",
   "execution_count": 62,
   "id": "a9fc02a5",
   "metadata": {},
   "outputs": [],
   "source": [
    "def sentiment(polarity):\n",
    "    if polarity < 0:\n",
    "        return 'Negative'\n",
    "    elif polarity == 0:\n",
    "        return 'Neutral'\n",
    "    else:\n",
    "        return 'Positive'\n",
    "\n",
    "df['Polarity'] = df['Comment'].apply(lambda text: TextBlob(text).sentiment.polarity)\n",
    "df['Analysis'] = df['Polarity'].apply(sentiment)"
   ]
  },
  {
   "cell_type": "code",
   "execution_count": 72,
   "id": "135ff37c",
   "metadata": {},
   "outputs": [],
   "source": [
    "df.to_csv('TextBlob.csv')"
   ]
  },
  {
   "cell_type": "markdown",
   "id": "2d7764a4",
   "metadata": {},
   "source": [
    "# Visualisations"
   ]
  },
  {
   "cell_type": "code",
   "execution_count": 71,
   "id": "a34665f9",
   "metadata": {},
   "outputs": [
    {
     "data": {
      "text/plain": [
       "<AxesSubplot:xlabel='Analysis', ylabel='count'>"
      ]
     },
     "execution_count": 71,
     "metadata": {},
     "output_type": "execute_result"
    },
    {
     "data": {
      "image/png": "[encoded data removed]",
      "text/plain": [
       "<Figure size 432x288 with 1 Axes>"
      ]
     },
     "metadata": {
      "needs_background": "light"
     },
     "output_type": "display_data"
    }
   ],
   "source": [
    "sns.countplot(x='Analysis', data=df)"
   ]
  }
 ],
 "metadata": {
  "kernelspec": {
   "display_name": "Python 3 (ipykernel)",
   "language": "python",
   "name": "python3"
  },
  "language_info": {
   "codemirror_mode": {
    "name": "ipython",
    "version": 3
   },
   "file_extension": ".py",
   "mimetype": "text/x-python",
   "name": "python",
   "nbconvert_exporter": "python",
   "pygments_lexer": "ipython3",
   "version": "3.9.11"
  }
 },
 "nbformat": 4,
 "nbformat_minor": 5
}
