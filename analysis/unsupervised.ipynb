{
 "cells": [
  {
   "cell_type": "markdown",
   "id": "3ab1048b",
   "metadata": {},
   "source": [
    "# Import Libraries"
   ]
  },
  {
   "cell_type": "code",
   "execution_count": 1,
   "id": "fb360240",
   "metadata": {},
   "outputs": [],
   "source": [
    "import os\n",
    "import pandas as pd\n",
    "import numpy\n",
    "import matplotlib.pyplot as plt\n",
    "import seaborn as sns"
   ]
  },
  {
   "cell_type": "code",
   "execution_count": 2,
   "id": "6cb96028",
   "metadata": {},
   "outputs": [],
   "source": [
    "%matplotlib inline"
   ]
  },
  {
   "cell_type": "code",
   "execution_count": 3,
   "id": "c1db540b",
   "metadata": {},
   "outputs": [],
   "source": [
    "from read_data import combine_all, combine_category, read_data"
   ]
  },
  {
   "cell_type": "code",
   "execution_count": 70,
   "id": "f5f15af8",
   "metadata": {},
   "outputs": [],
   "source": [
    "import gensim\n",
    "import re\n",
    "from time import time\n",
    "from collections import defaultdict\n",
    "import spacy\n",
    "import multiprocessing\n",
    "\n",
    "from gensim.models import Word2Vec\n",
    "from gensim.models.phrases import Phrases, Phraser\n",
    "from sklearn.cluster import KMeans\n",
    "from yellowbrick.cluster import SilhouetteVisualizer\n",
    "from yellowbrick.datasets import load_nfl\n",
    "from sklearn.metrics import silhouette_samples, silhouette_score"
   ]
  },
  {
   "cell_type": "markdown",
   "id": "5a81c0e8",
   "metadata": {},
   "source": [
    "# Working on Entire Dataset"
   ]
  },
  {
   "cell_type": "markdown",
   "id": "1edc5782",
   "metadata": {},
   "source": [
    "## Reading Dataset"
   ]
  },
  {
   "cell_type": "code",
   "execution_count": 71,
   "id": "f2342a36",
   "metadata": {},
   "outputs": [],
   "source": [
    "data = combine_all() # this function is written by us for reading all the dataset for different videos"
   ]
  },
  {
   "cell_type": "code",
   "execution_count": 72,
   "id": "d8e10ff1",
   "metadata": {},
   "outputs": [
    {
     "data": {
      "text/html": [
       "<div>\n",
       "<style scoped>\n",
       "    .dataframe tbody tr th:only-of-type {\n",
       "        vertical-align: middle;\n",
       "    }\n",
       "\n",
       "    .dataframe tbody tr th {\n",
       "        vertical-align: top;\n",
       "    }\n",
       "\n",
       "    .dataframe thead th {\n",
       "        text-align: right;\n",
       "    }\n",
       "</style>\n",
       "<table border=\"1\" class=\"dataframe\">\n",
       "  <thead>\n",
       "    <tr style=\"text-align: right;\">\n",
       "      <th></th>\n",
       "      <th>Name</th>\n",
       "      <th>Comment</th>\n",
       "      <th>Time</th>\n",
       "      <th>Likes</th>\n",
       "      <th>Reply Count\\r</th>\n",
       "      <th>Reply Count</th>\n",
       "    </tr>\n",
       "  </thead>\n",
       "  <tbody>\n",
       "    <tr>\n",
       "      <th>0</th>\n",
       "      <td>MrBeast</td>\n",
       "      <td>Like I said in the video, subscribe if you hav...</td>\n",
       "      <td>2021-11-24T21:02:45Z</td>\n",
       "      <td>860124</td>\n",
       "      <td>411.0</td>\n",
       "      <td>NaN</td>\n",
       "    </tr>\n",
       "    <tr>\n",
       "      <th>1</th>\n",
       "      <td>Natanael De La Torre</td>\n",
       "      <td>IRL:squid game already IRL</td>\n",
       "      <td>2022-04-03T01:26:06Z</td>\n",
       "      <td>0</td>\n",
       "      <td>0.0</td>\n",
       "      <td>NaN</td>\n",
       "    </tr>\n",
       "    <tr>\n",
       "      <th>2</th>\n",
       "      <td>Rexx2Byte</td>\n",
       "      <td>4:39 EYYYYYYY WASSUP NIGHT FOX</td>\n",
       "      <td>2022-04-03T01:19:41Z</td>\n",
       "      <td>1</td>\n",
       "      <td>0.0</td>\n",
       "      <td>NaN</td>\n",
       "    </tr>\n",
       "    <tr>\n",
       "      <th>3</th>\n",
       "      <td>HK KING868</td>\n",
       "      <td>After reject Netflix</td>\n",
       "      <td>2022-04-03T01:06:44Z</td>\n",
       "      <td>0</td>\n",
       "      <td>0.0</td>\n",
       "      <td>NaN</td>\n",
       "    </tr>\n",
       "    <tr>\n",
       "      <th>4</th>\n",
       "      <td>Dragon Walker</td>\n",
       "      <td>some people just made the marbles game so conf...</td>\n",
       "      <td>2022-04-03T01:06:41Z</td>\n",
       "      <td>1</td>\n",
       "      <td>0.0</td>\n",
       "      <td>NaN</td>\n",
       "    </tr>\n",
       "  </tbody>\n",
       "</table>\n",
       "</div>"
      ],
      "text/plain": [
       "                   Name                                            Comment  \\\n",
       "0               MrBeast  Like I said in the video, subscribe if you hav...   \n",
       "1  Natanael De La Torre                         IRL:squid game already IRL   \n",
       "2             Rexx2Byte                     4:39 EYYYYYYY WASSUP NIGHT FOX   \n",
       "3            HK KING868                               After reject Netflix   \n",
       "4         Dragon Walker  some people just made the marbles game so conf...   \n",
       "\n",
       "                   Time   Likes  Reply Count\\r  Reply Count  \n",
       "0  2021-11-24T21:02:45Z  860124          411.0          NaN  \n",
       "1  2022-04-03T01:26:06Z       0            0.0          NaN  \n",
       "2  2022-04-03T01:19:41Z       1            0.0          NaN  \n",
       "3  2022-04-03T01:06:44Z       0            0.0          NaN  \n",
       "4  2022-04-03T01:06:41Z       1            0.0          NaN  "
      ]
     },
     "execution_count": 72,
     "metadata": {},
     "output_type": "execute_result"
    }
   ],
   "source": [
    "data.head(5)"
   ]
  },
  {
   "cell_type": "code",
   "execution_count": 73,
   "id": "c83af903",
   "metadata": {},
   "outputs": [],
   "source": [
    "df = data[['Name', 'Comment']]"
   ]
  },
  {
   "cell_type": "code",
   "execution_count": 74,
   "id": "8b502dbf",
   "metadata": {},
   "outputs": [
    {
     "name": "stdout",
     "output_type": "stream",
     "text": [
      "<class 'pandas.core.frame.DataFrame'>\n",
      "Int64Index: 1351212 entries, 0 to 70956\n",
      "Data columns (total 2 columns):\n",
      " #   Column   Non-Null Count    Dtype \n",
      "---  ------   --------------    ----- \n",
      " 0   Name     1351105 non-null  object\n",
      " 1   Comment  1350925 non-null  object\n",
      "dtypes: object(2)\n",
      "memory usage: 30.9+ MB\n"
     ]
    }
   ],
   "source": [
    "df.info()"
   ]
  },
  {
   "cell_type": "markdown",
   "id": "d1a267ed",
   "metadata": {},
   "source": [
    "## Data Cleaning"
   ]
  },
  {
   "cell_type": "code",
   "execution_count": 17,
   "id": "b70fba8f",
   "metadata": {},
   "outputs": [
    {
     "data": {
      "text/plain": [
       "Name       107\n",
       "Comment    287\n",
       "dtype: int64"
      ]
     },
     "execution_count": 17,
     "metadata": {},
     "output_type": "execute_result"
    }
   ],
   "source": [
    "df.isnull().sum() # total number of rows with null values"
   ]
  },
  {
   "cell_type": "code",
   "execution_count": 18,
   "id": "fc083e17",
   "metadata": {},
   "outputs": [],
   "source": [
    "df = df.dropna() # removing null values"
   ]
  },
  {
   "cell_type": "code",
   "execution_count": 19,
   "id": "dd5a8c93",
   "metadata": {},
   "outputs": [
    {
     "data": {
      "text/plain": [
       "Name       0\n",
       "Comment    0\n",
       "dtype: int64"
      ]
     },
     "execution_count": 19,
     "metadata": {},
     "output_type": "execute_result"
    }
   ],
   "source": [
    "df.isnull().sum() # total number of rows with null values"
   ]
  },
  {
   "cell_type": "code",
   "execution_count": 20,
   "id": "829ead91",
   "metadata": {},
   "outputs": [],
   "source": [
    "# python -m spacy download en"
   ]
  },
  {
   "cell_type": "code",
   "execution_count": 21,
   "id": "401963e6",
   "metadata": {},
   "outputs": [],
   "source": [
    "nlp = spacy.load('en_core_web_sm', disable=['ner', 'parser'])\n",
    "\n",
    "def cleaning(doc):\n",
    "\n",
    "    txt = [token.lemma_ for token in doc if not token.is_stop]\n",
    "   \n",
    "    if len(txt) > 2:\n",
    "        return ' '.join(txt)"
   ]
  },
  {
   "cell_type": "code",
   "execution_count": 22,
   "id": "33fa7795",
   "metadata": {},
   "outputs": [],
   "source": [
    "brief_cleaning = (re.sub(\"[^A-Za-z']+\", ' ', str(row)).lower() for row in df['Comment'])"
   ]
  },
  {
   "cell_type": "code",
   "execution_count": 23,
   "id": "0c5bdb58",
   "metadata": {},
   "outputs": [
    {
     "name": "stdout",
     "output_type": "stream",
     "text": [
      "Time to clean up everything: 9.49 mins\n"
     ]
    }
   ],
   "source": [
    "t = time()\n",
    "\n",
    "txt = [cleaning(doc) for doc in nlp.pipe(brief_cleaning, batch_size=5000)]\n",
    "\n",
    "print('Time to clean up everything: {} mins'.format(round((time() - t) / 60, 2)))"
   ]
  },
  {
   "cell_type": "code",
   "execution_count": 24,
   "id": "900eb538",
   "metadata": {},
   "outputs": [
    {
     "data": {
      "text/plain": [
       "(607501, 1)"
      ]
     },
     "execution_count": 24,
     "metadata": {},
     "output_type": "execute_result"
    }
   ],
   "source": [
    "df_clean = pd.DataFrame({'clean': txt})\n",
    "df_clean = df_clean.dropna().drop_duplicates()\n",
    "df_clean.shape"
   ]
  },
  {
   "cell_type": "code",
   "execution_count": 25,
   "id": "502b8170",
   "metadata": {},
   "outputs": [],
   "source": [
    "df_clean.to_csv('clean.csv')"
   ]
  },
  {
   "cell_type": "code",
   "execution_count": 26,
   "id": "2fad953f",
   "metadata": {},
   "outputs": [],
   "source": []
  },
  {
   "cell_type": "code",
   "execution_count": 27,
   "id": "8dc45e6a",
   "metadata": {},
   "outputs": [],
   "source": [
    "sent = [row.split() for row in df_clean['clean']]"
   ]
  },
  {
   "cell_type": "code",
   "execution_count": 28,
   "id": "04ff3890",
   "metadata": {},
   "outputs": [],
   "source": [
    "phrases = Phrases(sent, min_count=30, progress_per=10000)"
   ]
  },
  {
   "cell_type": "code",
   "execution_count": 29,
   "id": "fdb77d6e",
   "metadata": {},
   "outputs": [],
   "source": [
    "bigram = Phraser(phrases)"
   ]
  },
  {
   "cell_type": "code",
   "execution_count": 30,
   "id": "9dce0bcf",
   "metadata": {},
   "outputs": [],
   "source": [
    "sentences = bigram[sent]"
   ]
  },
  {
   "cell_type": "code",
   "execution_count": 31,
   "id": "5911bfee",
   "metadata": {},
   "outputs": [
    {
     "data": {
      "text/plain": [
       "108791"
      ]
     },
     "execution_count": 31,
     "metadata": {},
     "output_type": "execute_result"
    }
   ],
   "source": [
    "word_freq = defaultdict(int)\n",
    "for sent in sentences:\n",
    "    for i in sent:\n",
    "        word_freq[i] += 1\n",
    "len(word_freq)"
   ]
  },
  {
   "cell_type": "code",
   "execution_count": 32,
   "id": "81fae0ef",
   "metadata": {},
   "outputs": [
    {
     "data": {
      "text/plain": [
       "['mr_beast', 'mrbeast', 'm', 's', 'jimmy', 'love', 'good', 'win', 'u', 'video']"
      ]
     },
     "execution_count": 32,
     "metadata": {},
     "output_type": "execute_result"
    }
   ],
   "source": [
    "sorted(word_freq, key=word_freq.get, reverse=True)[:10]"
   ]
  },
  {
   "cell_type": "code",
   "execution_count": 33,
   "id": "79049e1b",
   "metadata": {},
   "outputs": [],
   "source": []
  },
  {
   "cell_type": "code",
   "execution_count": 34,
   "id": "b22e08db",
   "metadata": {},
   "outputs": [],
   "source": [
    "w2v_model = Word2Vec(min_count=3,\n",
    "                     window=4,\n",
    "                     vector_size=300,\n",
    "                     sample=1e-5, \n",
    "                     alpha=0.03, \n",
    "                     min_alpha=0.0007, \n",
    "                     negative=20,\n",
    "                     workers=multiprocessing.cpu_count()-1)"
   ]
  },
  {
   "cell_type": "code",
   "execution_count": 35,
   "id": "dd7212c6",
   "metadata": {},
   "outputs": [
    {
     "name": "stdout",
     "output_type": "stream",
     "text": [
      "Time to build vocab: 0.06 mins\n"
     ]
    }
   ],
   "source": [
    "t = time()\n",
    "\n",
    "w2v_model.build_vocab(sentences, progress_per=10000)\n",
    "\n",
    "print('Time to build vocab: {} mins'.format(round((time() - t) / 60, 2)))"
   ]
  },
  {
   "cell_type": "code",
   "execution_count": 36,
   "id": "be4d4958",
   "metadata": {},
   "outputs": [
    {
     "name": "stdout",
     "output_type": "stream",
     "text": [
      "Time to train the model: 2.58 mins\n"
     ]
    }
   ],
   "source": [
    "t = time()\n",
    "\n",
    "w2v_model.train(sentences, total_examples=w2v_model.corpus_count, epochs=30, report_delay=1)\n",
    "\n",
    "print('Time to train the model: {} mins'.format(round((time() - t) / 60, 2)))"
   ]
  },
  {
   "cell_type": "code",
   "execution_count": 37,
   "id": "8da16ad4",
   "metadata": {},
   "outputs": [],
   "source": [
    "w2v_model.save('word2vec.model') # DbMf3Php"
   ]
  },
  {
   "cell_type": "code",
   "execution_count": 38,
   "id": "09047a80",
   "metadata": {},
   "outputs": [
    {
     "data": {
      "text/plain": [
       "[('great', 0.6633161902427673),\n",
       " ('entertainer', 0.6190119385719299),\n",
       " ('well', 0.5988542437553406),\n",
       " ('awesome', 0.5863618850708008),\n",
       " ('passionate', 0.5720544457435608),\n",
       " ('dedicated', 0.5699253082275391),\n",
       " ('selflessness', 0.5664835572242737),\n",
       " ('motivational', 0.5648596286773682),\n",
       " ('motivate', 0.5638036727905273),\n",
       " ('put_effort', 0.5619373321533203)]"
      ]
     },
     "execution_count": 38,
     "metadata": {},
     "output_type": "execute_result"
    }
   ],
   "source": [
    "w2v_model.wv.most_similar(positive=[\"good\"])"
   ]
  },
  {
   "cell_type": "code",
   "execution_count": 39,
   "id": "67c1ac03",
   "metadata": {},
   "outputs": [
    {
     "data": {
      "text/plain": [
       "[('exaggeration', 0.657414436340332),\n",
       " ('appropriate', 0.6447244882583618),\n",
       " ('recke', 0.6348669528961182),\n",
       " ('grammar', 0.626691997051239),\n",
       " ('gotten', 0.6251201629638672),\n",
       " ('childish', 0.6237300634384155),\n",
       " (\"y'know\", 0.6235143542289734),\n",
       " ('repetitive', 0.6234145760536194),\n",
       " ('frustrate', 0.6215988397598267),\n",
       " ('clostrophobic', 0.6203850507736206)]"
      ]
     },
     "execution_count": 39,
     "metadata": {},
     "output_type": "execute_result"
    }
   ],
   "source": [
    "w2v_model.wv.most_similar(positive=[\"bad\"])"
   ]
  },
  {
   "cell_type": "code",
   "execution_count": 40,
   "id": "2e02a62c",
   "metadata": {},
   "outputs": [
    {
     "data": {
      "text/plain": [
       "[('kida', 0.6299033761024475),\n",
       " ('okok', 0.608138918876648),\n",
       " ('uhmmm', 0.6064192056655884),\n",
       " ('umm', 0.6038805246353149),\n",
       " ('sweetie', 0.6005862951278687),\n",
       " ('thousend', 0.5997239947319031),\n",
       " ('nothing', 0.5983384847640991),\n",
       " ('undertak', 0.5935590267181396),\n",
       " ('ummm', 0.5920311808586121),\n",
       " ('rq', 0.5909878015518188)]"
      ]
     },
     "execution_count": 40,
     "metadata": {},
     "output_type": "execute_result"
    }
   ],
   "source": [
    "w2v_model.wv.most_similar(positive=[\"ok\"])"
   ]
  },
  {
   "cell_type": "code",
   "execution_count": 52,
   "id": "ab2c9e95",
   "metadata": {},
   "outputs": [
    {
     "data": {
      "text/plain": [
       "0.38743377"
      ]
     },
     "execution_count": 52,
     "metadata": {},
     "output_type": "execute_result"
    }
   ],
   "source": [
    "w2v_model.wv.similarity('good', 'mr_beast')"
   ]
  },
  {
   "cell_type": "code",
   "execution_count": 53,
   "id": "78b3a3d1",
   "metadata": {},
   "outputs": [
    {
     "data": {
      "text/plain": [
       "0.19031991"
      ]
     },
     "execution_count": 53,
     "metadata": {},
     "output_type": "execute_result"
    }
   ],
   "source": [
    "w2v_model.wv.similarity('bad', 'mr_beast')"
   ]
  },
  {
   "cell_type": "code",
   "execution_count": 43,
   "id": "dd3d406a",
   "metadata": {},
   "outputs": [],
   "source": []
  },
  {
   "cell_type": "code",
   "execution_count": 58,
   "id": "1cf8a97b",
   "metadata": {},
   "outputs": [],
   "source": [
    "word_vectors = Word2Vec.load(\"word2vec.model\").wv\n",
    "model = KMeans(n_clusters=3, max_iter=1000, random_state=True, n_init=50).fit(X=word_vectors.vectors)"
   ]
  },
  {
   "cell_type": "code",
   "execution_count": 69,
   "id": "e9bd16e0",
   "metadata": {},
   "outputs": [
    {
     "data": {
      "text/plain": [
       "[('manicure', 0.9759057760238647),\n",
       " ('judo', 0.9757534861564636),\n",
       " ('platinum', 0.9704717993736267),\n",
       " ('barbara', 0.9704495668411255),\n",
       " ('capricorn', 0.9700502753257751),\n",
       " ('butane', 0.9699249863624573),\n",
       " ('pansy', 0.9697097539901733),\n",
       " ('dugout', 0.968982458114624),\n",
       " ('authorization', 0.968745768070221),\n",
       " ('bawdy', 0.9683710932731628),\n",
       " ('stepmother', 0.968234121799469),\n",
       " ('veterinarian', 0.9680881500244141),\n",
       " ('pendulum', 0.9679637551307678),\n",
       " ('sweatshop', 0.9679598212242126),\n",
       " ('seeder', 0.9679090976715088),\n",
       " ('aluminum', 0.9674092531204224),\n",
       " ('afterthought', 0.9672328233718872),\n",
       " ('universally', 0.9671775698661804),\n",
       " ('cauliflower', 0.9670945405960083),\n",
       " ('anteater', 0.966794490814209),\n",
       " ('zoology', 0.9662699103355408),\n",
       " ('gondola', 0.9660769104957581),\n",
       " ('pail', 0.9660439491271973),\n",
       " ('semicircle', 0.9658192992210388),\n",
       " ('liquor', 0.9656803011894226),\n",
       " ('latex', 0.9655489921569824),\n",
       " ('wholesaler', 0.9654927253723145),\n",
       " ('bookcase', 0.9654483795166016),\n",
       " ('vacuous', 0.9653215408325195),\n",
       " ('manx', 0.9650975465774536)]"
      ]
     },
     "execution_count": 69,
     "metadata": {},
     "output_type": "execute_result"
    }
   ],
   "source": [
    "word_vectors.similar_by_vector(model.cluster_centers_[0], topn=30, restrict_vocab=None)"
   ]
  },
  {
   "cell_type": "code",
   "execution_count": 60,
   "id": "fae9b8c2",
   "metadata": {},
   "outputs": [
    {
     "data": {
      "text/plain": [
       "[('finally_finally', 0.9941205382347107),\n",
       " ('great_fan', 0.9922812581062317),\n",
       " ('wiuld', 0.9880257844924927),\n",
       " ('community_guidrline', 0.9867371916770935),\n",
       " ('brawlhalla', 0.9862463474273682),\n",
       " ('ooooooooooooooooooooooooooooooooooooooooooo', 0.985901415348053),\n",
       " ('finally_season', 0.9858812689781189),\n",
       " ('winnnnnn', 0.985747754573822),\n",
       " ('respectful_follow', 0.9855976104736328),\n",
       " ('yeeeeeehaaaaaa_yeeeeeehaaaaaa', 0.9854317903518677),\n",
       " ('remember_comment', 0.9854029417037964),\n",
       " ('miss_rage', 0.9853699803352356),\n",
       " ('community_guideline', 0.9851595759391785),\n",
       " ('contester', 0.9849253296852112),\n",
       " ('audio_track', 0.9849121570587158),\n",
       " ('rage_miss', 0.9848461747169495),\n",
       " ('donedone_donedone', 0.9847877621650696),\n",
       " ('ooooooooooooooooooooooooooooooooo', 0.984665036201477),\n",
       " ('bagger', 0.9844430088996887),\n",
       " ('quartine', 0.984383225440979)]"
      ]
     },
     "execution_count": 60,
     "metadata": {},
     "output_type": "execute_result"
    }
   ],
   "source": [
    "word_vectors.similar_by_vector(model.cluster_centers_[1], topn=20, restrict_vocab=None)"
   ]
  },
  {
   "cell_type": "code",
   "execution_count": 62,
   "id": "42753368",
   "metadata": {},
   "outputs": [
    {
     "data": {
      "text/plain": [
       "[('gusgri', 0.9805708527565002),\n",
       " ('falte', 0.9801424145698547),\n",
       " ('bkn', 0.9768861532211304),\n",
       " ('eta', 0.974585771560669),\n",
       " ('claramente', 0.9742158651351929),\n",
       " ('raza', 0.9724372029304504),\n",
       " ('volv', 0.9722635746002197),\n",
       " ('decepcion', 0.9721284508705139),\n",
       " ('otbeqivdfbxurwbv', 0.9716755151748657),\n",
       " ('huebdchuqdbnvdcjhbrebhvusdvhjdjsfvbdfjbjjdhbvdjshbvurebvubudbvdsuvbdsuvyr',\n",
       "  0.9715401530265808),\n",
       " ('llevan', 0.9712055325508118),\n",
       " ('chucha', 0.9708117842674255),\n",
       " ('perdio', 0.9707825183868408),\n",
       " ('fecha', 0.9701526761054993),\n",
       " ('llamaron', 0.9700786471366882),\n",
       " ('perfecci', 0.9699659943580627),\n",
       " ('berga', 0.9699473977088928),\n",
       " ('ayudara', 0.9697561860084534),\n",
       " ('delos', 0.9697321653366089),\n",
       " ('ndola', 0.9694566130638123)]"
      ]
     },
     "execution_count": 62,
     "metadata": {},
     "output_type": "execute_result"
    }
   ],
   "source": [
    "word_vectors.similar_by_vector(model.cluster_centers_[2], topn=20, restrict_vocab=None)"
   ]
  },
  {
   "cell_type": "code",
   "execution_count": 47,
   "id": "2e60f958",
   "metadata": {},
   "outputs": [],
   "source": []
  },
  {
   "cell_type": "code",
   "execution_count": 48,
   "id": "cc58ee17",
   "metadata": {},
   "outputs": [],
   "source": [
    "score = silhouette_score(word_vectors.vectors, model.labels_, metric='euclidean')"
   ]
  },
  {
   "cell_type": "code",
   "execution_count": 49,
   "id": "450a889f",
   "metadata": {},
   "outputs": [
    {
     "data": {
      "text/plain": [
       "0.37528253"
      ]
     },
     "execution_count": 49,
     "metadata": {},
     "output_type": "execute_result"
    }
   ],
   "source": [
    "score"
   ]
  },
  {
   "cell_type": "code",
   "execution_count": 50,
   "id": "72d4db5e",
   "metadata": {},
   "outputs": [],
   "source": []
  },
  {
   "cell_type": "code",
   "execution_count": 67,
   "id": "7ec6012a",
   "metadata": {},
   "outputs": [],
   "source": [
    "kmeans = KMeans(n_clusters=2, max_iter=10000, random_state=True, init='k-means++')"
   ]
  },
  {
   "cell_type": "code",
   "execution_count": 68,
   "id": "4caf4457",
   "metadata": {},
   "outputs": [
    {
     "data": {
      "image/png": "[encoded data removed]",
      "text/plain": [
       "<Figure size 576x396 with 1 Axes>"
      ]
     },
     "metadata": {},
     "output_type": "display_data"
    },
    {
     "data": {
      "text/plain": [
       "<AxesSubplot:title={'center':'Silhouette Plot of KMeans Clustering for 30321 Samples in 2 Centers'}, xlabel='silhouette coefficient values', ylabel='cluster label'>"
      ]
     },
     "execution_count": 68,
     "metadata": {},
     "output_type": "execute_result"
    }
   ],
   "source": [
    "visualizer = SilhouetteVisualizer(kmeans, colors='yellowbrick')\n",
    "\n",
    "visualizer.fit(word_vectors.vectors)\n",
    "visualizer.show()"
   ]
  },
  {
   "cell_type": "markdown",
   "id": "b483ebf3",
   "metadata": {},
   "source": [
    "# Working on Mr Beast Channel vs Mr Beast Gaming Channel"
   ]
  },
  {
   "cell_type": "code",
   "execution_count": null,
   "id": "ca2de778",
   "metadata": {},
   "outputs": [],
   "source": []
  },
  {
   "cell_type": "code",
   "execution_count": null,
   "id": "5642676f",
   "metadata": {},
   "outputs": [],
   "source": []
  },
  {
   "cell_type": "code",
   "execution_count": null,
   "id": "a07b3e3f",
   "metadata": {},
   "outputs": [],
   "source": []
  },
  {
   "cell_type": "markdown",
   "id": "157043f3",
   "metadata": {},
   "source": [
    "# Working on individual dataset"
   ]
  },
  {
   "cell_type": "code",
   "execution_count": null,
   "id": "1af0ee9f",
   "metadata": {},
   "outputs": [],
   "source": []
  },
  {
   "cell_type": "code",
   "execution_count": null,
   "id": "d9d13bd8",
   "metadata": {},
   "outputs": [],
   "source": []
  },
  {
   "cell_type": "code",
   "execution_count": null,
   "id": "283ee9f8",
   "metadata": {},
   "outputs": [],
   "source": []
  }
 ],
 "metadata": {
  "kernelspec": {
   "display_name": "Python 3 (ipykernel)",
   "language": "python",
   "name": "python3"
  },
  "language_info": {
   "codemirror_mode": {
    "name": "ipython",
    "version": 3
   },
   "file_extension": ".py",
   "mimetype": "text/x-python",
   "name": "python",
   "nbconvert_exporter": "python",
   "pygments_lexer": "ipython3",
   "version": "3.9.11"
  }
 },
 "nbformat": 4,
 "nbformat_minor": 5
}
